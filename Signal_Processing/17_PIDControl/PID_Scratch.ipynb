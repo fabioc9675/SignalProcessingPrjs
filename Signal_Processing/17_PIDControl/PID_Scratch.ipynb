{
 "cells": [
  {
   "cell_type": "markdown",
   "metadata": {},
   "source": [
    "# Implementacion de contrilador PID\n",
    "\n",
    "Proporcional, Integral, Derivativo\n",
    "\n",
    "- Video [Link](https://www.youtube.com/watch?v=fWQWX9-8_sA&t=2486s)"
   ]
  },
  {
   "cell_type": "code",
   "execution_count": 1,
   "metadata": {},
   "outputs": [],
   "source": [
    "# Cart pole code\n",
    "import numpy as np\n",
    "from numpy.linalg import solve\n",
    "import matplotlib.pyplot as plt\n",
    "from matplotlib.animation import FFMpegWriter\n",
    "from matplotlib.patches import Rectangle\n"
   ]
  },
  {
   "cell_type": "markdown",
   "metadata": {},
   "source": [
    "### Definicion de los parametros del pendulo"
   ]
  },
  {
   "cell_type": "code",
   "execution_count": 2,
   "metadata": {},
   "outputs": [],
   "source": [
    "# define pendulum parameters\n",
    "g = 9.8  # gravity (m/s^2)\n",
    "L = 2  # Length (m)\n",
    "m1 = 2  # Cart mass (kg)\n",
    "m2 = 1  # Pendulum mass (kg)\n",
    "b = 0.0  # Viscous friction coefficient\n",
    "\n",
    "# Define Time Vector for Simulation\n",
    "dt = 0.001  # Time Step\n",
    "sim_time = 10  # Length of Simulation\n",
    "t_vec = np.arange(0, sim_time, dt)"
   ]
  },
  {
   "cell_type": "markdown",
   "metadata": {},
   "source": [
    "### Inicializacion del vector de estado"
   ]
  },
  {
   "cell_type": "code",
   "execution_count": 3,
   "metadata": {},
   "outputs": [],
   "source": [
    "# Initialize State Vectors:\n",
    "vec_size = len(t_vec)  # We use this value alot so lets store it\n",
    "x_vec = np.zeros(vec_size)\n",
    "dx_vec = np.zeros(vec_size)\n",
    "theta_vec = np.zeros(vec_size)\n",
    "dtheta_vec = np.zeros(vec_size)\n",
    "\n",
    "# Pole End effector Location for Animation:\n",
    "x_pole = np.zeros(vec_size)\n",
    "y_pole = np.zeros(vec_size)\n",
    "\n",
    "################################################\n",
    "## Choose the starting position of the Cartpole\n",
    "# Assign Intial Conditions:\n",
    "x_vec[0] = 0   # Cart Position\n",
    "dx_vec[0] = 0  # Cart Velocity\n",
    "theta_vec[0] = 9.8*np.pi/10 # Pole Angle\n",
    "dtheta_vec[0] = 0          # Pole Angular Velocity\n",
    "################################################"
   ]
  },
  {
   "cell_type": "markdown",
   "metadata": {},
   "source": [
    "### Posicion inicial del efector final (Barra)"
   ]
  },
  {
   "cell_type": "code",
   "execution_count": 4,
   "metadata": {},
   "outputs": [],
   "source": [
    "# Initial Pole End effector Location:\n",
    "y_offset = 0  # The Y Location of where the Cart and Pole are connected\n",
    "x_pole[0] = x_vec[0] + L * np.sin(theta_vec[0])\n",
    "y_pole[0] = y_offset - L * np.cos(theta_vec[0])"
   ]
  },
  {
   "cell_type": "markdown",
   "metadata": {},
   "source": [
    "## Euler simulation (no run)"
   ]
  },
  {
   "cell_type": "code",
   "execution_count": 5,
   "metadata": {},
   "outputs": [],
   "source": [
    "# Comment In / Out using the command (Ctrl + /)\n",
    "# Euler Simulation: (Long Math)\n",
    "# for i in range(1, vec_size):\n",
    "#     x_vec[i] = x_vec[i - 1] + dx_vec[i - 1] * dt\n",
    "#     theta_vec[i] = theta_vec[i - 1] + dtheta_vec[i - 1] * dt\n",
    "#     dx_vec[i] = dx_vec[i - 1] + -(2 * L * m2 * np.sin(theta_vec[i - 1]) * dtheta_vec[i - 1] ** 2 + 4 * b * dx_vec[i - 1] - 3 * g * m2 * np.cos(theta_vec[i - 1]) * np.sin(theta_vec[i - 1])) / (4 * m1 + 4 * m2 - 3 * m2 * np.cos(theta_vec[i - 1]) ** 2) * dt\n",
    "#     dtheta_vec[i] = dtheta_vec[i - 1] + -(-3 * L * m2 * np.cos(theta_vec[i - 1]) * np.sin(theta_vec[i - 1]) * dtheta_vec[i - 1] ** 2 + 6 * g * m1 * np.sin(theta_vec[i - 1]) + 6 * g * m2 * np.sin(theta_vec[i - 1]) - 6 * b * dx_vec[i - 1] * np.cos(theta_vec[i - 1])) / (L * (4 * m1 + 4 * m2 - 3 * m2 * np.cos(theta_vec[i - 1]) ** 2)) * dt\n",
    "#     # Extra States for Animation:\n",
    "#     x_pole[i] = x_vec[i] + L * np.sin(theta_vec[i])\n",
    "#     y_pole[i] = y_offset - L * np.cos(theta_vec[i])\n",
    "\n",
    "# Euler Simulation: Using Matrix Form (A * x = B)\n",
    "# Initialize A and B:\n",
    "A = np.array([[m1 + m2, 0], [0, 1 / 3 * m2 * L ** 2]])\n",
    "B = np.array([0, 0])"
   ]
  },
  {
   "cell_type": "markdown",
   "metadata": {},
   "source": [
    "### Loop de simulacion"
   ]
  },
  {
   "cell_type": "code",
   "execution_count": 43,
   "metadata": {},
   "outputs": [],
   "source": [
    "# Initial error integral is zero\n",
    "error_int = 0\n",
    "\n",
    "# Simulation Loop\n",
    "for i in range(1, vec_size):\n",
    "\n",
    "    ################################################\n",
    "    # Define your Control Input (Force on the Cart)\n",
    "    # Control input (force)\n",
    "    #\n",
    "    # Reference previous measured values\n",
    "    # x_vec[i-1]\n",
    "    # theta_vec[i-1]\n",
    "    # dx_vec[i-1]\n",
    "    # dtheta_vec[i-1]\n",
    "    thetades = np.pi  # Desired cart position\n",
    "    Kp = 50  # Proportional Gain\n",
    "    Ki = 1  # Integral Gain\n",
    "    Kd = 20  # Derivative Gain\n",
    "    e = thetades - theta_vec[i-1]\n",
    "    de_dt = -dtheta_vec[i-1]\n",
    "    error_int = error_int + e*dt\n",
    "\n",
    "    u = Kp*e + Ki*error_int + Kd*de_dt  # Force\n",
    "\n",
    "    ################################################\n",
    "\n",
    "    # Simulate the Cart\n",
    "    # Only the off diagonal needs to be Updated:\n",
    "    A[0, 1] = 1 / 2 * m2 * L * np.cos(theta_vec[i-1])\n",
    "    A[1, 0] = 1 / 2 * m2 * L * np.cos(theta_vec[i-1])\n",
    "    # b must be updated every iteration:\n",
    "    B[0] = -1 / 2 * m2 * L * (dtheta_vec[i-1] ** 2) * \\\n",
    "        np.sin(theta_vec[i-1]) - b * dx_vec[i-1] + u/m1\n",
    "    B[1] = -m2 * g * L / 2 * np.sin(theta_vec[i-1])\n",
    "    [ddx, ddtheta] = np.linalg.solve(A, B)\n",
    "    # Use ddx and ddtheta to solve:\n",
    "    x_vec[i] = x_vec[i - 1] + dx_vec[i - 1] * dt\n",
    "    theta_vec[i] = theta_vec[i - 1] + dtheta_vec[i - 1] * dt\n",
    "    dx_vec[i] = dx_vec[i - 1] + ddx * dt\n",
    "    dtheta_vec[i] = dtheta_vec[i - 1] + ddtheta * dt\n",
    "    # Extra States for Animation:\n",
    "    x_pole[i] = x_vec[i] + L * np.sin(theta_vec[i])\n",
    "    y_pole[i] = y_offset - L * np.cos(theta_vec[i])\n"
   ]
  },
  {
   "cell_type": "code",
   "execution_count": 44,
   "metadata": {},
   "outputs": [
    {
     "data": {
      "image/png": "[encoded data removed]",
      "text/plain": [
       "<Figure size 432x288 with 1 Axes>"
      ]
     },
     "metadata": {
      "needs_background": "light"
     },
     "output_type": "display_data"
    },
    {
     "data": {
      "image/png": "[encoded data removed]",
      "text/plain": [
       "<Figure size 432x288 with 1 Axes>"
      ]
     },
     "metadata": {
      "needs_background": "light"
     },
     "output_type": "display_data"
    }
   ],
   "source": [
    "plt.plot(t_vec, x_vec)\n",
    "plt.title(\"x position vs. time\")\n",
    "plt.show()\n",
    "plt.plot(t_vec, theta_vec)\n",
    "plt.title(\"theta vs. time\")\n",
    "plt.show()"
   ]
  },
  {
   "cell_type": "markdown",
   "metadata": {},
   "source": [
    "### Creacion de la simulacion"
   ]
  },
  {
   "cell_type": "code",
   "execution_count": 12,
   "metadata": {},
   "outputs": [
    {
     "data": {
      "text/plain": [
       "<matplotlib.patches.Rectangle at 0x1654b66ee30>"
      ]
     },
     "execution_count": 12,
     "metadata": {},
     "output_type": "execute_result"
    },
    {
     "data": {
      "image/png": "[encoded data removed]",
      "text/plain": [
       "<Figure size 432x288 with 1 Axes>"
      ]
     },
     "metadata": {
      "needs_background": "light"
     },
     "output_type": "display_data"
    }
   ],
   "source": [
    "# Create Animation:\n",
    "# Setup Figure:\n",
    "fig, ax = plt.subplots()\n",
    "p, = ax.plot([], [], color='royalblue')\n",
    "min_lim = -5\n",
    "max_lim = 5\n",
    "ax.axis('equal')\n",
    "ax.set_xlim([min_lim, max_lim])\n",
    "ax.set_ylim([min_lim, max_lim])\n",
    "ax.set_xlabel('X')\n",
    "ax.set_ylabel('Y')\n",
    "ax.set_title('Cartpole Simulation:')\n",
    "title = \"simulation\"\n",
    "\n",
    "# Setup Animation Writer:\n",
    "FPS = 20\n",
    "sample_rate = int(1 / (dt * FPS))  # Real Time Playback\n",
    "dpi = 300\n",
    "writerObj = FFMpegWriter(fps=FPS)\n",
    "\n",
    "# Initialize Patch: (Cart)\n",
    "width = 1  # Width of Cart\n",
    "height = width / 2  # Height of Cart\n",
    "xy_cart = (x_vec[0] - width / 2, y_offset - height / 2)  # Bottom Left Corner of Cart\n",
    "r = Rectangle(xy_cart, width, height, color='cornflowerblue')  # Rectangle Patch\n",
    "ax.add_patch(r)  # Add Patch to Plot\n",
    "\n",
    "# Draw the Ground:\n",
    "ground = ax.hlines(-height / 2, min_lim, max_lim, colors='black')\n",
    "height_hatch = 0.25\n",
    "width_hatch = max_lim - min_lim\n",
    "xy_hatch = (min_lim, y_offset - height / 2 - height_hatch)\n",
    "ground_hatch = Rectangle(xy_hatch, width_hatch, height_hatch, facecolor='None', linestyle='None', hatch='/')\n",
    "ax.add_patch(ground_hatch)\n"
   ]
  },
  {
   "cell_type": "markdown",
   "metadata": {},
   "source": [
    "## Animacion"
   ]
  },
  {
   "cell_type": "code",
   "execution_count": 18,
   "metadata": {},
   "outputs": [
    {
     "ename": "FileNotFoundError",
     "evalue": "[WinError 2] El sistema no puede encontrar el archivo especificado",
     "output_type": "error",
     "traceback": [
      "\u001b[1;31m---------------------------------------------------------------------------\u001b[0m",
      "\u001b[1;31mFileNotFoundError\u001b[0m                         Traceback (most recent call last)",
      "\u001b[1;32md:\\GitHub\\ReactNativeProjects\\SignalProcessingPrjs\\Signal_Processing\\17_PIDControl\\PID_Scratch.ipynb Celda 17\u001b[0m in \u001b[0;36m<cell line: 2>\u001b[1;34m()\u001b[0m\n\u001b[0;32m      <a href='vscode-notebook-cell:/d%3A/GitHub/ReactNativeProjects/SignalProcessingPrjs/Signal_Processing/17_PIDControl/PID_Scratch.ipynb#X22sZmlsZQ%3D%3D?line=0'>1</a>\u001b[0m \u001b[39m# Animate:\u001b[39;00m\n\u001b[1;32m----> <a href='vscode-notebook-cell:/d%3A/GitHub/ReactNativeProjects/SignalProcessingPrjs/Signal_Processing/17_PIDControl/PID_Scratch.ipynb#X22sZmlsZQ%3D%3D?line=1'>2</a>\u001b[0m \u001b[39mwith\u001b[39;00m writerObj\u001b[39m.\u001b[39msaving(fig, \u001b[39m'\u001b[39m\u001b[39msimulation.mp4\u001b[39m\u001b[39m'\u001b[39m, dpi\u001b[39m=\u001b[39mdpi):\n\u001b[0;32m      <a href='vscode-notebook-cell:/d%3A/GitHub/ReactNativeProjects/SignalProcessingPrjs/Signal_Processing/17_PIDControl/PID_Scratch.ipynb#X22sZmlsZQ%3D%3D?line=2'>3</a>\u001b[0m     \u001b[39mfor\u001b[39;00m i \u001b[39min\u001b[39;00m \u001b[39mrange\u001b[39m(\u001b[39m0\u001b[39m, vec_size, sample_rate):\n\u001b[0;32m      <a href='vscode-notebook-cell:/d%3A/GitHub/ReactNativeProjects/SignalProcessingPrjs/Signal_Processing/17_PIDControl/PID_Scratch.ipynb#X22sZmlsZQ%3D%3D?line=3'>4</a>\u001b[0m         \u001b[39m# Update Pendulum Arm:\u001b[39;00m\n\u001b[0;32m      <a href='vscode-notebook-cell:/d%3A/GitHub/ReactNativeProjects/SignalProcessingPrjs/Signal_Processing/17_PIDControl/PID_Scratch.ipynb#X22sZmlsZQ%3D%3D?line=4'>5</a>\u001b[0m         x_pole_arm \u001b[39m=\u001b[39m [x_vec[i], x_pole[i]]\n",
      "File \u001b[1;32mc:\\Python310\\lib\\contextlib.py:135\u001b[0m, in \u001b[0;36m_GeneratorContextManager.__enter__\u001b[1;34m(self)\u001b[0m\n\u001b[0;32m    133\u001b[0m \u001b[39mdel\u001b[39;00m \u001b[39mself\u001b[39m\u001b[39m.\u001b[39margs, \u001b[39mself\u001b[39m\u001b[39m.\u001b[39mkwds, \u001b[39mself\u001b[39m\u001b[39m.\u001b[39mfunc\n\u001b[0;32m    134\u001b[0m \u001b[39mtry\u001b[39;00m:\n\u001b[1;32m--> 135\u001b[0m     \u001b[39mreturn\u001b[39;00m \u001b[39mnext\u001b[39;49m(\u001b[39mself\u001b[39;49m\u001b[39m.\u001b[39;49mgen)\n\u001b[0;32m    136\u001b[0m \u001b[39mexcept\u001b[39;00m \u001b[39mStopIteration\u001b[39;00m:\n\u001b[0;32m    137\u001b[0m     \u001b[39mraise\u001b[39;00m \u001b[39mRuntimeError\u001b[39;00m(\u001b[39m\"\u001b[39m\u001b[39mgenerator didn\u001b[39m\u001b[39m'\u001b[39m\u001b[39mt yield\u001b[39m\u001b[39m\"\u001b[39m) \u001b[39mfrom\u001b[39;00m \u001b[39mNone\u001b[39m\n",
      "File \u001b[1;32m~\\AppData\\Roaming\\Python\\Python310\\site-packages\\matplotlib\\animation.py:234\u001b[0m, in \u001b[0;36mAbstractMovieWriter.saving\u001b[1;34m(self, fig, outfile, dpi, *args, **kwargs)\u001b[0m\n\u001b[0;32m    228\u001b[0m \u001b[39m\"\"\"\u001b[39;00m\n\u001b[0;32m    229\u001b[0m \u001b[39mContext manager to facilitate writing the movie file.\u001b[39;00m\n\u001b[0;32m    230\u001b[0m \n\u001b[0;32m    231\u001b[0m \u001b[39m``*args, **kw`` are any parameters that should be passed to `setup`.\u001b[39;00m\n\u001b[0;32m    232\u001b[0m \u001b[39m\"\"\"\u001b[39;00m\n\u001b[0;32m    233\u001b[0m \u001b[39m# This particular sequence is what contextlib.contextmanager wants\u001b[39;00m\n\u001b[1;32m--> 234\u001b[0m \u001b[39mself\u001b[39m\u001b[39m.\u001b[39msetup(fig, outfile, dpi, \u001b[39m*\u001b[39margs, \u001b[39m*\u001b[39m\u001b[39m*\u001b[39mkwargs)\n\u001b[0;32m    235\u001b[0m \u001b[39mtry\u001b[39;00m:\n\u001b[0;32m    236\u001b[0m     \u001b[39myield\u001b[39;00m \u001b[39mself\u001b[39m\n",
      "File \u001b[1;32m~\\AppData\\Roaming\\Python\\Python310\\site-packages\\matplotlib\\animation.py:323\u001b[0m, in \u001b[0;36mMovieWriter.setup\u001b[1;34m(self, fig, outfile, dpi)\u001b[0m\n\u001b[0;32m    320\u001b[0m \u001b[39mself\u001b[39m\u001b[39m.\u001b[39m_w, \u001b[39mself\u001b[39m\u001b[39m.\u001b[39m_h \u001b[39m=\u001b[39m \u001b[39mself\u001b[39m\u001b[39m.\u001b[39m_adjust_frame_size()\n\u001b[0;32m    321\u001b[0m \u001b[39m# Run here so that grab_frame() can write the data to a pipe. This\u001b[39;00m\n\u001b[0;32m    322\u001b[0m \u001b[39m# eliminates the need for temp files.\u001b[39;00m\n\u001b[1;32m--> 323\u001b[0m \u001b[39mself\u001b[39;49m\u001b[39m.\u001b[39;49m_run()\n",
      "File \u001b[1;32m~\\AppData\\Roaming\\Python\\Python310\\site-packages\\matplotlib\\animation.py:333\u001b[0m, in \u001b[0;36mMovieWriter._run\u001b[1;34m(self)\u001b[0m\n\u001b[0;32m    330\u001b[0m _log\u001b[39m.\u001b[39minfo(\u001b[39m'\u001b[39m\u001b[39mMovieWriter._run: running command: \u001b[39m\u001b[39m%s\u001b[39;00m\u001b[39m'\u001b[39m,\n\u001b[0;32m    331\u001b[0m           cbook\u001b[39m.\u001b[39m_pformat_subprocess(command))\n\u001b[0;32m    332\u001b[0m PIPE \u001b[39m=\u001b[39m subprocess\u001b[39m.\u001b[39mPIPE\n\u001b[1;32m--> 333\u001b[0m \u001b[39mself\u001b[39m\u001b[39m.\u001b[39m_proc \u001b[39m=\u001b[39m subprocess\u001b[39m.\u001b[39;49mPopen(\n\u001b[0;32m    334\u001b[0m     command, stdin\u001b[39m=\u001b[39;49mPIPE, stdout\u001b[39m=\u001b[39;49mPIPE, stderr\u001b[39m=\u001b[39;49mPIPE,\n\u001b[0;32m    335\u001b[0m     creationflags\u001b[39m=\u001b[39;49msubprocess_creation_flags)\n",
      "File \u001b[1;32mc:\\Python310\\lib\\subprocess.py:966\u001b[0m, in \u001b[0;36mPopen.__init__\u001b[1;34m(self, args, bufsize, executable, stdin, stdout, stderr, preexec_fn, close_fds, shell, cwd, env, universal_newlines, startupinfo, creationflags, restore_signals, start_new_session, pass_fds, user, group, extra_groups, encoding, errors, text, umask, pipesize)\u001b[0m\n\u001b[0;32m    962\u001b[0m         \u001b[39mif\u001b[39;00m \u001b[39mself\u001b[39m\u001b[39m.\u001b[39mtext_mode:\n\u001b[0;32m    963\u001b[0m             \u001b[39mself\u001b[39m\u001b[39m.\u001b[39mstderr \u001b[39m=\u001b[39m io\u001b[39m.\u001b[39mTextIOWrapper(\u001b[39mself\u001b[39m\u001b[39m.\u001b[39mstderr,\n\u001b[0;32m    964\u001b[0m                     encoding\u001b[39m=\u001b[39mencoding, errors\u001b[39m=\u001b[39merrors)\n\u001b[1;32m--> 966\u001b[0m     \u001b[39mself\u001b[39;49m\u001b[39m.\u001b[39;49m_execute_child(args, executable, preexec_fn, close_fds,\n\u001b[0;32m    967\u001b[0m                         pass_fds, cwd, env,\n\u001b[0;32m    968\u001b[0m                         startupinfo, creationflags, shell,\n\u001b[0;32m    969\u001b[0m                         p2cread, p2cwrite,\n\u001b[0;32m    970\u001b[0m                         c2pread, c2pwrite,\n\u001b[0;32m    971\u001b[0m                         errread, errwrite,\n\u001b[0;32m    972\u001b[0m                         restore_signals,\n\u001b[0;32m    973\u001b[0m                         gid, gids, uid, umask,\n\u001b[0;32m    974\u001b[0m                         start_new_session)\n\u001b[0;32m    975\u001b[0m \u001b[39mexcept\u001b[39;00m:\n\u001b[0;32m    976\u001b[0m     \u001b[39m# Cleanup if the child failed starting.\u001b[39;00m\n\u001b[0;32m    977\u001b[0m     \u001b[39mfor\u001b[39;00m f \u001b[39min\u001b[39;00m \u001b[39mfilter\u001b[39m(\u001b[39mNone\u001b[39;00m, (\u001b[39mself\u001b[39m\u001b[39m.\u001b[39mstdin, \u001b[39mself\u001b[39m\u001b[39m.\u001b[39mstdout, \u001b[39mself\u001b[39m\u001b[39m.\u001b[39mstderr)):\n",
      "File \u001b[1;32mc:\\Python310\\lib\\subprocess.py:1435\u001b[0m, in \u001b[0;36mPopen._execute_child\u001b[1;34m(self, args, executable, preexec_fn, close_fds, pass_fds, cwd, env, startupinfo, creationflags, shell, p2cread, p2cwrite, c2pread, c2pwrite, errread, errwrite, unused_restore_signals, unused_gid, unused_gids, unused_uid, unused_umask, unused_start_new_session)\u001b[0m\n\u001b[0;32m   1433\u001b[0m \u001b[39m# Start the process\u001b[39;00m\n\u001b[0;32m   1434\u001b[0m \u001b[39mtry\u001b[39;00m:\n\u001b[1;32m-> 1435\u001b[0m     hp, ht, pid, tid \u001b[39m=\u001b[39m _winapi\u001b[39m.\u001b[39;49mCreateProcess(executable, args,\n\u001b[0;32m   1436\u001b[0m                              \u001b[39m# no special security\u001b[39;49;00m\n\u001b[0;32m   1437\u001b[0m                              \u001b[39mNone\u001b[39;49;00m, \u001b[39mNone\u001b[39;49;00m,\n\u001b[0;32m   1438\u001b[0m                              \u001b[39mint\u001b[39;49m(\u001b[39mnot\u001b[39;49;00m close_fds),\n\u001b[0;32m   1439\u001b[0m                              creationflags,\n\u001b[0;32m   1440\u001b[0m                              env,\n\u001b[0;32m   1441\u001b[0m                              cwd,\n\u001b[0;32m   1442\u001b[0m                              startupinfo)\n\u001b[0;32m   1443\u001b[0m \u001b[39mfinally\u001b[39;00m:\n\u001b[0;32m   1444\u001b[0m     \u001b[39m# Child is launched. Close the parent's copy of those pipe\u001b[39;00m\n\u001b[0;32m   1445\u001b[0m     \u001b[39m# handles that only the child should have open.  You need\u001b[39;00m\n\u001b[1;32m   (...)\u001b[0m\n\u001b[0;32m   1448\u001b[0m     \u001b[39m# pipe will not close when the child process exits and the\u001b[39;00m\n\u001b[0;32m   1449\u001b[0m     \u001b[39m# ReadFile will hang.\u001b[39;00m\n\u001b[0;32m   1450\u001b[0m     \u001b[39mself\u001b[39m\u001b[39m.\u001b[39m_close_pipe_fds(p2cread, p2cwrite,\n\u001b[0;32m   1451\u001b[0m                          c2pread, c2pwrite,\n\u001b[0;32m   1452\u001b[0m                          errread, errwrite)\n",
      "\u001b[1;31mFileNotFoundError\u001b[0m: [WinError 2] El sistema no puede encontrar el archivo especificado"
     ]
    }
   ],
   "source": [
    "\n",
    "# Animate:\n",
    "with writerObj.saving(fig, 'simulation.mp4', dpi=dpi):\n",
    "    for i in range(0, vec_size, sample_rate):\n",
    "        # Update Pendulum Arm:\n",
    "        x_pole_arm = [x_vec[i], x_pole[i]]\n",
    "        y_pole_arm = [y_offset, y_pole[i]]\n",
    "        p.set_data(x_pole_arm, y_pole_arm)\n",
    "        # Update Cart Patch:\n",
    "        r.set(xy=(x_vec[i] - width / 2, y_offset - height / 2))\n",
    "        # Update Drawing:\n",
    "        fig.canvas.draw()\n",
    "        # Save Frame:\n",
    "        writerObj.grab_frame()"
   ]
  }
 ],
 "metadata": {
  "kernelspec": {
   "display_name": "Python 3.10.0 64-bit",
   "language": "python",
   "name": "python3"
  },
  "language_info": {
   "codemirror_mode": {
    "name": "ipython",
    "version": 3
   },
   "file_extension": ".py",
   "mimetype": "text/x-python",
   "name": "python",
   "nbconvert_exporter": "python",
   "pygments_lexer": "ipython3",
   "version": "3.10.0"
  },
  "orig_nbformat": 4,
  "vscode": {
   "interpreter": {
    "hash": "369f2c481f4da34e4445cda3fffd2e751bd1c4d706f27375911949ba6bb62e1c"
   }
  }
 },
 "nbformat": 4,
 "nbformat_minor": 2
}
