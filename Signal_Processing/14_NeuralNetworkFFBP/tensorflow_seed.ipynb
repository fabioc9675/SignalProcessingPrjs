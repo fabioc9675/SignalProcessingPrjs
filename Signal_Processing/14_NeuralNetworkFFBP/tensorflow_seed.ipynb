{
 "cells": [
  {
   "cell_type": "markdown",
   "metadata": {},
   "source": [
    "# Creation of my first neural network\n",
    "\n",
    "## Feed Forward Back Propagation\n",
    "\n",
    "se creará una red neuronal feed forward back propagation con una capa de entrada, una capa oculta y una capa de salida\n",
    "\n",
    "retorpropagacion: https://www.youtube.com/watch?v=tIeHLnjs5U8\n",
    "\n",
    "backpropagation: https://towardsdatascience.com/understanding-backpropagation-algorithm-7bb3aa2f95fd\n",
    "\n",
    "### Author\n",
    "\n",
    "Fabian Castaño [GitHub](https://www.github.com/fabioc9675)"
   ]
  },
  {
   "cell_type": "code",
   "execution_count": 59,
   "metadata": {},
   "outputs": [],
   "source": [
    "# importacion de librerias\n",
    "import numpy as np\n",
    "import pandas as pd\n",
    "import matplotlib.pyplot as plt\n",
    "\n",
    "from sklearn.preprocessing import LabelBinarizer\n",
    "from sklearn.metrics import log_loss, accuracy_score\n",
    "from sklearn.model_selection import train_test_split\n",
    "\n",
    "import tensorflow as tf\n"
   ]
  },
  {
   "cell_type": "code",
   "execution_count": 60,
   "metadata": {},
   "outputs": [
    {
     "data": {
      "text/html": [
       "<div>\n",
       "<style scoped>\n",
       "    .dataframe tbody tr th:only-of-type {\n",
       "        vertical-align: middle;\n",
       "    }\n",
       "\n",
       "    .dataframe tbody tr th {\n",
       "        vertical-align: top;\n",
       "    }\n",
       "\n",
       "    .dataframe thead tr th {\n",
       "        text-align: left;\n",
       "    }\n",
       "\n",
       "    .dataframe thead tr:last-of-type th {\n",
       "        text-align: right;\n",
       "    }\n",
       "</style>\n",
       "<table border=\"1\" class=\"dataframe\">\n",
       "  <thead>\n",
       "    <tr>\n",
       "      <th></th>\n",
       "      <th colspan=\"8\" halign=\"left\">var_1</th>\n",
       "      <th colspan=\"2\" halign=\"left\">var_2</th>\n",
       "      <th>...</th>\n",
       "      <th colspan=\"2\" halign=\"left\">var_6</th>\n",
       "      <th colspan=\"8\" halign=\"left\">var_7</th>\n",
       "    </tr>\n",
       "    <tr>\n",
       "      <th></th>\n",
       "      <th>count</th>\n",
       "      <th>mean</th>\n",
       "      <th>std</th>\n",
       "      <th>min</th>\n",
       "      <th>25%</th>\n",
       "      <th>50%</th>\n",
       "      <th>75%</th>\n",
       "      <th>max</th>\n",
       "      <th>count</th>\n",
       "      <th>mean</th>\n",
       "      <th>...</th>\n",
       "      <th>75%</th>\n",
       "      <th>max</th>\n",
       "      <th>count</th>\n",
       "      <th>mean</th>\n",
       "      <th>std</th>\n",
       "      <th>min</th>\n",
       "      <th>25%</th>\n",
       "      <th>50%</th>\n",
       "      <th>75%</th>\n",
       "      <th>max</th>\n",
       "    </tr>\n",
       "    <tr>\n",
       "      <th>salida</th>\n",
       "      <th></th>\n",
       "      <th></th>\n",
       "      <th></th>\n",
       "      <th></th>\n",
       "      <th></th>\n",
       "      <th></th>\n",
       "      <th></th>\n",
       "      <th></th>\n",
       "      <th></th>\n",
       "      <th></th>\n",
       "      <th></th>\n",
       "      <th></th>\n",
       "      <th></th>\n",
       "      <th></th>\n",
       "      <th></th>\n",
       "      <th></th>\n",
       "      <th></th>\n",
       "      <th></th>\n",
       "      <th></th>\n",
       "      <th></th>\n",
       "      <th></th>\n",
       "    </tr>\n",
       "  </thead>\n",
       "  <tbody>\n",
       "    <tr>\n",
       "      <th>1</th>\n",
       "      <td>70.0</td>\n",
       "      <td>14.334429</td>\n",
       "      <td>1.215704</td>\n",
       "      <td>11.23</td>\n",
       "      <td>13.7500</td>\n",
       "      <td>14.355</td>\n",
       "      <td>15.0450</td>\n",
       "      <td>17.08</td>\n",
       "      <td>70.0</td>\n",
       "      <td>14.294286</td>\n",
       "      <td>...</td>\n",
       "      <td>3.30100</td>\n",
       "      <td>6.685</td>\n",
       "      <td>70.0</td>\n",
       "      <td>5.087214</td>\n",
       "      <td>0.263699</td>\n",
       "      <td>4.519</td>\n",
       "      <td>4.9245</td>\n",
       "      <td>5.0940</td>\n",
       "      <td>5.22350</td>\n",
       "      <td>5.877</td>\n",
       "    </tr>\n",
       "    <tr>\n",
       "      <th>2</th>\n",
       "      <td>70.0</td>\n",
       "      <td>18.334286</td>\n",
       "      <td>1.439496</td>\n",
       "      <td>15.38</td>\n",
       "      <td>17.3300</td>\n",
       "      <td>18.720</td>\n",
       "      <td>19.1375</td>\n",
       "      <td>21.18</td>\n",
       "      <td>70.0</td>\n",
       "      <td>16.135714</td>\n",
       "      <td>...</td>\n",
       "      <td>4.43600</td>\n",
       "      <td>6.682</td>\n",
       "      <td>70.0</td>\n",
       "      <td>6.020600</td>\n",
       "      <td>0.253934</td>\n",
       "      <td>5.144</td>\n",
       "      <td>5.8775</td>\n",
       "      <td>5.9815</td>\n",
       "      <td>6.18775</td>\n",
       "      <td>6.550</td>\n",
       "    </tr>\n",
       "    <tr>\n",
       "      <th>3</th>\n",
       "      <td>70.0</td>\n",
       "      <td>11.873857</td>\n",
       "      <td>0.723004</td>\n",
       "      <td>10.59</td>\n",
       "      <td>11.2625</td>\n",
       "      <td>11.835</td>\n",
       "      <td>12.4250</td>\n",
       "      <td>13.37</td>\n",
       "      <td>70.0</td>\n",
       "      <td>13.247857</td>\n",
       "      <td>...</td>\n",
       "      <td>5.46725</td>\n",
       "      <td>8.456</td>\n",
       "      <td>70.0</td>\n",
       "      <td>5.116400</td>\n",
       "      <td>0.162068</td>\n",
       "      <td>4.745</td>\n",
       "      <td>5.0020</td>\n",
       "      <td>5.0915</td>\n",
       "      <td>5.22850</td>\n",
       "      <td>5.491</td>\n",
       "    </tr>\n",
       "  </tbody>\n",
       "</table>\n",
       "<p>3 rows × 56 columns</p>\n",
       "</div>"
      ],
      "text/plain": [
       "       var_1                                                               \\\n",
       "       count       mean       std    min      25%     50%      75%    max   \n",
       "salida                                                                      \n",
       "1       70.0  14.334429  1.215704  11.23  13.7500  14.355  15.0450  17.08   \n",
       "2       70.0  18.334286  1.439496  15.38  17.3300  18.720  19.1375  21.18   \n",
       "3       70.0  11.873857  0.723004  10.59  11.2625  11.835  12.4250  13.37   \n",
       "\n",
       "       var_2             ...    var_6        var_7                             \\\n",
       "       count       mean  ...      75%    max count      mean       std    min   \n",
       "salida                   ...                                                    \n",
       "1       70.0  14.294286  ...  3.30100  6.685  70.0  5.087214  0.263699  4.519   \n",
       "2       70.0  16.135714  ...  4.43600  6.682  70.0  6.020600  0.253934  5.144   \n",
       "3       70.0  13.247857  ...  5.46725  8.456  70.0  5.116400  0.162068  4.745   \n",
       "\n",
       "                                        \n",
       "           25%     50%      75%    max  \n",
       "salida                                  \n",
       "1       4.9245  5.0940  5.22350  5.877  \n",
       "2       5.8775  5.9815  6.18775  6.550  \n",
       "3       5.0020  5.0915  5.22850  5.491  \n",
       "\n",
       "[3 rows x 56 columns]"
      ]
     },
     "execution_count": 60,
     "metadata": {},
     "output_type": "execute_result"
    }
   ],
   "source": [
    "# Carga de los datos de entrenamiento\n",
    "# d_train = pd.read_csv(\"dataset/dataset_test.csv\")\n",
    "# d_train.head(5)\n",
    "# d_train.groupby('rain').describe()\n",
    "\n",
    "d_train = pd.read_csv(\"dataset/seeds_dataset.csv\")\n",
    "d_train.head(5)\n",
    "d_train.groupby('salida').describe()\n"
   ]
  },
  {
   "cell_type": "markdown",
   "metadata": {},
   "source": [
    "## Normalizacion de dataset\n"
   ]
  },
  {
   "cell_type": "code",
   "execution_count": 61,
   "metadata": {},
   "outputs": [],
   "source": [
    "def normDataset(x, val):\n",
    "    return x/val\n"
   ]
  },
  {
   "cell_type": "code",
   "execution_count": 62,
   "metadata": {},
   "outputs": [
    {
     "data": {
      "text/html": [
       "<div>\n",
       "<style scoped>\n",
       "    .dataframe tbody tr th:only-of-type {\n",
       "        vertical-align: middle;\n",
       "    }\n",
       "\n",
       "    .dataframe tbody tr th {\n",
       "        vertical-align: top;\n",
       "    }\n",
       "\n",
       "    .dataframe thead th {\n",
       "        text-align: right;\n",
       "    }\n",
       "</style>\n",
       "<table border=\"1\" class=\"dataframe\">\n",
       "  <thead>\n",
       "    <tr style=\"text-align: right;\">\n",
       "      <th></th>\n",
       "      <th>var_1</th>\n",
       "      <th>var_2</th>\n",
       "      <th>var_3</th>\n",
       "      <th>var_4</th>\n",
       "      <th>var_5</th>\n",
       "      <th>var_6</th>\n",
       "      <th>var_7</th>\n",
       "      <th>salida</th>\n",
       "    </tr>\n",
       "  </thead>\n",
       "  <tbody>\n",
       "    <tr>\n",
       "      <th>0</th>\n",
       "      <td>0.1663</td>\n",
       "      <td>0.1546</td>\n",
       "      <td>0.008747</td>\n",
       "      <td>0.06053</td>\n",
       "      <td>0.03465</td>\n",
       "      <td>0.02040</td>\n",
       "      <td>0.05877</td>\n",
       "      <td>1</td>\n",
       "    </tr>\n",
       "    <tr>\n",
       "      <th>1</th>\n",
       "      <td>0.1644</td>\n",
       "      <td>0.1525</td>\n",
       "      <td>0.008880</td>\n",
       "      <td>0.05884</td>\n",
       "      <td>0.03505</td>\n",
       "      <td>0.01969</td>\n",
       "      <td>0.05533</td>\n",
       "      <td>1</td>\n",
       "    </tr>\n",
       "    <tr>\n",
       "      <th>2</th>\n",
       "      <td>0.1526</td>\n",
       "      <td>0.1485</td>\n",
       "      <td>0.008696</td>\n",
       "      <td>0.05714</td>\n",
       "      <td>0.03242</td>\n",
       "      <td>0.04543</td>\n",
       "      <td>0.05314</td>\n",
       "      <td>1</td>\n",
       "    </tr>\n",
       "    <tr>\n",
       "      <th>3</th>\n",
       "      <td>0.1403</td>\n",
       "      <td>0.1416</td>\n",
       "      <td>0.008796</td>\n",
       "      <td>0.05438</td>\n",
       "      <td>0.03201</td>\n",
       "      <td>0.01717</td>\n",
       "      <td>0.05001</td>\n",
       "      <td>1</td>\n",
       "    </tr>\n",
       "    <tr>\n",
       "      <th>4</th>\n",
       "      <td>0.1389</td>\n",
       "      <td>0.1402</td>\n",
       "      <td>0.008880</td>\n",
       "      <td>0.05439</td>\n",
       "      <td>0.03199</td>\n",
       "      <td>0.03986</td>\n",
       "      <td>0.04738</td>\n",
       "      <td>1</td>\n",
       "    </tr>\n",
       "  </tbody>\n",
       "</table>\n",
       "</div>"
      ],
      "text/plain": [
       "    var_1   var_2     var_3    var_4    var_5    var_6    var_7  salida\n",
       "0  0.1663  0.1546  0.008747  0.06053  0.03465  0.02040  0.05877       1\n",
       "1  0.1644  0.1525  0.008880  0.05884  0.03505  0.01969  0.05533       1\n",
       "2  0.1526  0.1485  0.008696  0.05714  0.03242  0.04543  0.05314       1\n",
       "3  0.1403  0.1416  0.008796  0.05438  0.03201  0.01717  0.05001       1\n",
       "4  0.1389  0.1402  0.008880  0.05439  0.03199  0.03986  0.04738       1"
      ]
     },
     "execution_count": 62,
     "metadata": {},
     "output_type": "execute_result"
    }
   ],
   "source": [
    "# normalizacion\n",
    "# d_train[['temperature', 'humidity', 'radiation']] = d_train[['temperature', 'humidity', 'radiation']].apply(\n",
    "#     lambda x: normDataset(x,100))\n",
    "d_train[['var_1', 'var_2','var_3','var_4','var_5','var_6','var_7']] = d_train[['var_1', 'var_2','var_3','var_4','var_5','var_6','var_7']].apply(\n",
    "    lambda x: normDataset(x,100))\n",
    "\n",
    "d_train.head(5)\n"
   ]
  },
  {
   "cell_type": "code",
   "execution_count": 63,
   "metadata": {},
   "outputs": [
    {
     "data": {
      "text/html": [
       "<div>\n",
       "<style scoped>\n",
       "    .dataframe tbody tr th:only-of-type {\n",
       "        vertical-align: middle;\n",
       "    }\n",
       "\n",
       "    .dataframe tbody tr th {\n",
       "        vertical-align: top;\n",
       "    }\n",
       "\n",
       "    .dataframe thead th {\n",
       "        text-align: right;\n",
       "    }\n",
       "</style>\n",
       "<table border=\"1\" class=\"dataframe\">\n",
       "  <thead>\n",
       "    <tr style=\"text-align: right;\">\n",
       "      <th></th>\n",
       "      <th>var_1</th>\n",
       "      <th>var_2</th>\n",
       "      <th>var_3</th>\n",
       "      <th>var_4</th>\n",
       "      <th>var_5</th>\n",
       "      <th>var_6</th>\n",
       "      <th>var_7</th>\n",
       "      <th>pequena</th>\n",
       "      <th>mediana</th>\n",
       "      <th>grande</th>\n",
       "    </tr>\n",
       "  </thead>\n",
       "  <tbody>\n",
       "    <tr>\n",
       "      <th>205</th>\n",
       "      <td>0.1182</td>\n",
       "      <td>0.1340</td>\n",
       "      <td>0.008274</td>\n",
       "      <td>0.05314</td>\n",
       "      <td>0.02777</td>\n",
       "      <td>0.04471</td>\n",
       "      <td>0.05178</td>\n",
       "      <td>0</td>\n",
       "      <td>0</td>\n",
       "      <td>1</td>\n",
       "    </tr>\n",
       "    <tr>\n",
       "      <th>206</th>\n",
       "      <td>0.1121</td>\n",
       "      <td>0.1313</td>\n",
       "      <td>0.008167</td>\n",
       "      <td>0.05279</td>\n",
       "      <td>0.02687</td>\n",
       "      <td>0.06169</td>\n",
       "      <td>0.05275</td>\n",
       "      <td>0</td>\n",
       "      <td>0</td>\n",
       "      <td>1</td>\n",
       "    </tr>\n",
       "    <tr>\n",
       "      <th>207</th>\n",
       "      <td>0.1143</td>\n",
       "      <td>0.1313</td>\n",
       "      <td>0.008335</td>\n",
       "      <td>0.05176</td>\n",
       "      <td>0.02719</td>\n",
       "      <td>0.02221</td>\n",
       "      <td>0.05132</td>\n",
       "      <td>0</td>\n",
       "      <td>0</td>\n",
       "      <td>1</td>\n",
       "    </tr>\n",
       "    <tr>\n",
       "      <th>208</th>\n",
       "      <td>0.1249</td>\n",
       "      <td>0.1346</td>\n",
       "      <td>0.008658</td>\n",
       "      <td>0.05267</td>\n",
       "      <td>0.02967</td>\n",
       "      <td>0.04421</td>\n",
       "      <td>0.05002</td>\n",
       "      <td>0</td>\n",
       "      <td>0</td>\n",
       "      <td>1</td>\n",
       "    </tr>\n",
       "    <tr>\n",
       "      <th>209</th>\n",
       "      <td>0.1270</td>\n",
       "      <td>0.1371</td>\n",
       "      <td>0.008491</td>\n",
       "      <td>0.05386</td>\n",
       "      <td>0.02911</td>\n",
       "      <td>0.03260</td>\n",
       "      <td>0.05316</td>\n",
       "      <td>0</td>\n",
       "      <td>0</td>\n",
       "      <td>1</td>\n",
       "    </tr>\n",
       "  </tbody>\n",
       "</table>\n",
       "</div>"
      ],
      "text/plain": [
       "      var_1   var_2     var_3    var_4    var_5    var_6    var_7  pequena  \\\n",
       "205  0.1182  0.1340  0.008274  0.05314  0.02777  0.04471  0.05178        0   \n",
       "206  0.1121  0.1313  0.008167  0.05279  0.02687  0.06169  0.05275        0   \n",
       "207  0.1143  0.1313  0.008335  0.05176  0.02719  0.02221  0.05132        0   \n",
       "208  0.1249  0.1346  0.008658  0.05267  0.02967  0.04421  0.05002        0   \n",
       "209  0.1270  0.1371  0.008491  0.05386  0.02911  0.03260  0.05316        0   \n",
       "\n",
       "     mediana  grande  \n",
       "205        0       1  \n",
       "206        0       1  \n",
       "207        0       1  \n",
       "208        0       1  \n",
       "209        0       1  "
      ]
     },
     "execution_count": 63,
     "metadata": {},
     "output_type": "execute_result"
    }
   ],
   "source": [
    "# clean data\n",
    "dataset = d_train.dropna()\n",
    "\n",
    "# convert categorical 'Origin' data into one-hot data\n",
    "origin = dataset.pop('salida')\n",
    "# origin = dataset.pop('rain')\n",
    "dataset['pequena'] = (origin == 1)*1\n",
    "dataset['mediana'] = (origin == 2)*1\n",
    "dataset['grande'] = (origin == 3)*1\n",
    "\n",
    "dataset.tail()"
   ]
  },
  {
   "cell_type": "markdown",
   "metadata": {},
   "source": [
    "## Separacion de los datos\n",
    "\n",
    "agrupar los datos de entrenamiento y de validacion, separar las entradas de las salida y convertir las salidas en un vector de la forma [0,0,0] a paritr del dato\n"
   ]
  },
  {
   "cell_type": "code",
   "execution_count": 64,
   "metadata": {},
   "outputs": [],
   "source": [
    "d_train_x = dataset[['var_1', 'var_2','var_3','var_4','var_5','var_6','var_7']].to_numpy()\n",
    "# d_train_x = dataset[['temperature', 'humidity','radiation']].to_numpy()\n",
    "d_train_y = dataset[['pequena','mediana','grande']].to_numpy()\n",
    "\n",
    "# Split data into training and testing sets\n",
    "x_train, x_test, y_train, y_test = train_test_split(d_train_x, d_train_y, test_size=0.3)"
   ]
  },
  {
   "cell_type": "markdown",
   "metadata": {},
   "source": [
    "## Network creation\n",
    "\n",
    "creation of neural network class\n"
   ]
  },
  {
   "cell_type": "code",
   "execution_count": 65,
   "metadata": {},
   "outputs": [
    {
     "name": "stdout",
     "output_type": "stream",
     "text": [
      "Model: \"sequential_4\"\n",
      "_________________________________________________________________\n",
      " Layer (type)                Output Shape              Param #   \n",
      "=================================================================\n",
      " dense_12 (Dense)            (None, 5)                 40        \n",
      "                                                                 \n",
      " dense_13 (Dense)            (None, 5)                 30        \n",
      "                                                                 \n",
      " dense_14 (Dense)            (None, 3)                 18        \n",
      "                                                                 \n",
      "=================================================================\n",
      "Total params: 88\n",
      "Trainable params: 88\n",
      "Non-trainable params: 0\n",
      "_________________________________________________________________\n",
      "None\n"
     ]
    }
   ],
   "source": [
    "# Using Keras more complex model\n",
    "# model\n",
    "modelo = tf.keras.Sequential([\n",
    "    tf.keras.layers.Dense(units=5, activation='sigmoid', input_shape=[7]), #  Hidden layer of 5 neurons with 3 input\n",
    "    tf.keras.layers.Dense(units=5, activation='sigmoid'), #  intermediate layer\n",
    "    tf.keras.layers.Dense(units=3, activation='sigmoid'),\n",
    "])\n",
    "\n",
    "print(modelo.summary())\n"
   ]
  },
  {
   "cell_type": "code",
   "execution_count": 66,
   "metadata": {},
   "outputs": [],
   "source": [
    "modelo.compile(\n",
    "    optimizer = tf.keras.optimizers.Adam(0.01),\n",
    "    loss = 'mean_squared_error'\n",
    ")\n",
    "\n",
    "#  modelo.sumary()"
   ]
  },
  {
   "cell_type": "code",
   "execution_count": 67,
   "metadata": {},
   "outputs": [
    {
     "data": {
      "image/png": "[encoded data removed]",
      "text/plain": [
       "<IPython.core.display.Image object>"
      ]
     },
     "execution_count": 67,
     "metadata": {},
     "output_type": "execute_result"
    }
   ],
   "source": [
    "dot_img_file = '/tmp/model_1.png'\n",
    "tf.keras.utils.plot_model(modelo, to_file=dot_img_file, show_shapes=True)"
   ]
  },
  {
   "cell_type": "markdown",
   "metadata": {},
   "source": [
    "## Model creation and training\n",
    "\n",
    "Creation of the model to predict seeds distribution"
   ]
  },
  {
   "cell_type": "code",
   "execution_count": 68,
   "metadata": {},
   "outputs": [
    {
     "name": "stdout",
     "output_type": "stream",
     "text": [
      "Comienza entrenamiento...\n",
      "Modelo entrenado!\n"
     ]
    }
   ],
   "source": [
    "print(\"Comienza entrenamiento...\")\n",
    "history = modelo.fit(x_train, y_train, epochs = 1000, batch_size=5, verbose = False)\n",
    "print(\"Modelo entrenado!\")"
   ]
  },
  {
   "cell_type": "code",
   "execution_count": 69,
   "metadata": {},
   "outputs": [
    {
     "data": {
      "text/plain": [
       "[<matplotlib.lines.Line2D at 0x15e011420>]"
      ]
     },
     "execution_count": 69,
     "metadata": {},
     "output_type": "execute_result"
    },
    {
     "data": {
      "image/png": "[encoded data removed]",
      "text/plain": [
       "<Figure size 432x288 with 1 Axes>"
      ]
     },
     "metadata": {
      "needs_background": "light"
     },
     "output_type": "display_data"
    }
   ],
   "source": [
    "plt.xlabel(\"# Epoca\")\n",
    "plt.ylabel(\"Magnitud de perdida\")\n",
    "plt.plot(history.history[\"loss\"])"
   ]
  },
  {
   "cell_type": "markdown",
   "metadata": {},
   "source": [
    "## Validation process\n",
    "\n",
    "validate the Neural Network working with test data"
   ]
  },
  {
   "cell_type": "code",
   "execution_count": 90,
   "metadata": {},
   "outputs": [
    {
     "name": "stdout",
     "output_type": "stream",
     "text": [
      "(63, 7)\n",
      "2/2 [==============================] - 0s 4ms/step\n",
      "Accuracy Score: 90.48\n"
     ]
    }
   ],
   "source": [
    "# Make the prediction on test data and measure performance\n",
    "print(x_test.shape)\n",
    "y_pred = modelo.predict(x_test)\n",
    "\n",
    "y_test_out = np.argmax(y_test, axis=1)\n",
    "y_pred_out = np.argmax(y_pred, axis=1)\n",
    "print(f\"Accuracy Score: {np.round(accuracy_score(y_test_out, y_pred_out)*100,2)}\")"
   ]
  },
  {
   "cell_type": "code",
   "execution_count": 91,
   "metadata": {},
   "outputs": [
    {
     "name": "stdout",
     "output_type": "stream",
     "text": [
      "predict: 0, target: 0\n",
      "predict: 0, target: 0\n",
      "predict: 0, target: 0\n",
      "predict: 1, target: 1\n",
      "predict: 2, target: 2\n",
      "predict: 0, target: 0\n",
      "predict: 2, target: 2\n",
      "predict: 0, target: 0\n",
      "predict: 1, target: 1\n",
      "predict: 0, target: 0\n"
     ]
    }
   ],
   "source": [
    "# print some data test\n",
    "for i in range(10):\n",
    "    print(f\"predict: {y_pred_out[i]}, target: {y_test_out[i]}\")"
   ]
  },
  {
   "cell_type": "markdown",
   "metadata": {},
   "source": [
    "# Prediccion de un dato\n",
    "\n",
    "este dato debe dar en la tercera neurona"
   ]
  },
  {
   "cell_type": "code",
   "execution_count": 116,
   "metadata": {},
   "outputs": [
    {
     "name": "stdout",
     "output_type": "stream",
     "text": [
      "(1, 7)\n",
      "1/1 [==============================] - 0s 34ms/step\n"
     ]
    },
    {
     "data": {
      "text/plain": [
       "array([[2.4374353e-02, 2.2978611e-04, 9.7396529e-01]], dtype=float32)"
      ]
     },
     "execution_count": 116,
     "metadata": {},
     "output_type": "execute_result"
    }
   ],
   "source": [
    "x_val = np.array([12.22,13.32,0.8652,5.224,2.967,5.469,5.221],dtype = float)/100\n",
    "# x_val = x_test[2]\n",
    "x_val = x_val.reshape((1,7))\n",
    "print(x_val.shape)\n",
    "modelo.predict(x_val)"
   ]
  }
 ],
 "metadata": {
  "kernelspec": {
   "display_name": "Python 3.10.6 64-bit",
   "language": "python",
   "name": "python3"
  },
  "language_info": {
   "codemirror_mode": {
    "name": "ipython",
    "version": 3
   },
   "file_extension": ".py",
   "mimetype": "text/x-python",
   "name": "python",
   "nbconvert_exporter": "python",
   "pygments_lexer": "ipython3",
   "version": "3.10.6"
  },
  "orig_nbformat": 4,
  "vscode": {
   "interpreter": {
    "hash": "aee8b7b246df8f9039afb4144a1f6fd8d2ca17a180786b69acc140d282b71a49"
   }
  }
 },
 "nbformat": 4,
 "nbformat_minor": 2
}
