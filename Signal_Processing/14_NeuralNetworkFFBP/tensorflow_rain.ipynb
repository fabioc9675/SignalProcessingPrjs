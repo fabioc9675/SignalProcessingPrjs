{
 "cells": [
  {
   "cell_type": "markdown",
   "metadata": {},
   "source": [
    "# Creation of my first neural network\n",
    "\n",
    "## Feed Forward Back Propagation\n",
    "\n",
    "se creará una red neuronal feed forward back propagation con una capa de entrada, una capa oculta y una capa de salida\n",
    "\n",
    "retorpropagacion: https://www.youtube.com/watch?v=tIeHLnjs5U8\n",
    "\n",
    "backpropagation: https://towardsdatascience.com/understanding-backpropagation-algorithm-7bb3aa2f95fd\n",
    "\n",
    "### Author\n",
    "\n",
    "Fabian Castaño [GitHub](https://www.github.com/fabioc9675)"
   ]
  },
  {
   "cell_type": "code",
   "execution_count": 1,
   "metadata": {},
   "outputs": [],
   "source": [
    "# importacion de librerias\n",
    "import numpy as np\n",
    "import pandas as pd\n",
    "import matplotlib.pyplot as plt\n",
    "\n",
    "from sklearn.preprocessing import LabelBinarizer\n",
    "from sklearn.metrics import log_loss, accuracy_score\n",
    "from sklearn.model_selection import train_test_split\n",
    "\n",
    "import tensorflow as tf\n"
   ]
  },
  {
   "cell_type": "code",
   "execution_count": 2,
   "metadata": {},
   "outputs": [
    {
     "data": {
      "text/html": [
       "<div>\n",
       "<style scoped>\n",
       "    .dataframe tbody tr th:only-of-type {\n",
       "        vertical-align: middle;\n",
       "    }\n",
       "\n",
       "    .dataframe tbody tr th {\n",
       "        vertical-align: top;\n",
       "    }\n",
       "\n",
       "    .dataframe thead tr th {\n",
       "        text-align: left;\n",
       "    }\n",
       "\n",
       "    .dataframe thead tr:last-of-type th {\n",
       "        text-align: right;\n",
       "    }\n",
       "</style>\n",
       "<table border=\"1\" class=\"dataframe\">\n",
       "  <thead>\n",
       "    <tr>\n",
       "      <th></th>\n",
       "      <th colspan=\"8\" halign=\"left\">id</th>\n",
       "      <th colspan=\"2\" halign=\"left\">temperature</th>\n",
       "      <th>...</th>\n",
       "      <th colspan=\"2\" halign=\"left\">humidity</th>\n",
       "      <th colspan=\"8\" halign=\"left\">radiation</th>\n",
       "    </tr>\n",
       "    <tr>\n",
       "      <th></th>\n",
       "      <th>count</th>\n",
       "      <th>mean</th>\n",
       "      <th>std</th>\n",
       "      <th>min</th>\n",
       "      <th>25%</th>\n",
       "      <th>50%</th>\n",
       "      <th>75%</th>\n",
       "      <th>max</th>\n",
       "      <th>count</th>\n",
       "      <th>mean</th>\n",
       "      <th>...</th>\n",
       "      <th>75%</th>\n",
       "      <th>max</th>\n",
       "      <th>count</th>\n",
       "      <th>mean</th>\n",
       "      <th>std</th>\n",
       "      <th>min</th>\n",
       "      <th>25%</th>\n",
       "      <th>50%</th>\n",
       "      <th>75%</th>\n",
       "      <th>max</th>\n",
       "    </tr>\n",
       "    <tr>\n",
       "      <th>rain</th>\n",
       "      <th></th>\n",
       "      <th></th>\n",
       "      <th></th>\n",
       "      <th></th>\n",
       "      <th></th>\n",
       "      <th></th>\n",
       "      <th></th>\n",
       "      <th></th>\n",
       "      <th></th>\n",
       "      <th></th>\n",
       "      <th></th>\n",
       "      <th></th>\n",
       "      <th></th>\n",
       "      <th></th>\n",
       "      <th></th>\n",
       "      <th></th>\n",
       "      <th></th>\n",
       "      <th></th>\n",
       "      <th></th>\n",
       "      <th></th>\n",
       "      <th></th>\n",
       "    </tr>\n",
       "  </thead>\n",
       "  <tbody>\n",
       "    <tr>\n",
       "      <th>1</th>\n",
       "      <td>30.0</td>\n",
       "      <td>15.5</td>\n",
       "      <td>8.803408</td>\n",
       "      <td>1.0</td>\n",
       "      <td>8.25</td>\n",
       "      <td>15.5</td>\n",
       "      <td>22.75</td>\n",
       "      <td>30.0</td>\n",
       "      <td>30.0</td>\n",
       "      <td>16.660000</td>\n",
       "      <td>...</td>\n",
       "      <td>85.650</td>\n",
       "      <td>94.6</td>\n",
       "      <td>30.0</td>\n",
       "      <td>50.256667</td>\n",
       "      <td>5.071603</td>\n",
       "      <td>41.6</td>\n",
       "      <td>45.800</td>\n",
       "      <td>50.1</td>\n",
       "      <td>54.750</td>\n",
       "      <td>58.6</td>\n",
       "    </tr>\n",
       "    <tr>\n",
       "      <th>2</th>\n",
       "      <td>33.0</td>\n",
       "      <td>47.0</td>\n",
       "      <td>9.669540</td>\n",
       "      <td>31.0</td>\n",
       "      <td>39.00</td>\n",
       "      <td>47.0</td>\n",
       "      <td>55.00</td>\n",
       "      <td>63.0</td>\n",
       "      <td>33.0</td>\n",
       "      <td>18.021212</td>\n",
       "      <td>...</td>\n",
       "      <td>75.900</td>\n",
       "      <td>79.9</td>\n",
       "      <td>33.0</td>\n",
       "      <td>53.869697</td>\n",
       "      <td>16.922368</td>\n",
       "      <td>20.1</td>\n",
       "      <td>37.900</td>\n",
       "      <td>55.8</td>\n",
       "      <td>64.400</td>\n",
       "      <td>78.9</td>\n",
       "    </tr>\n",
       "    <tr>\n",
       "      <th>3</th>\n",
       "      <td>34.0</td>\n",
       "      <td>80.5</td>\n",
       "      <td>9.958246</td>\n",
       "      <td>64.0</td>\n",
       "      <td>72.25</td>\n",
       "      <td>80.5</td>\n",
       "      <td>88.75</td>\n",
       "      <td>97.0</td>\n",
       "      <td>34.0</td>\n",
       "      <td>24.155882</td>\n",
       "      <td>...</td>\n",
       "      <td>46.775</td>\n",
       "      <td>49.6</td>\n",
       "      <td>34.0</td>\n",
       "      <td>74.926471</td>\n",
       "      <td>8.351095</td>\n",
       "      <td>60.9</td>\n",
       "      <td>65.975</td>\n",
       "      <td>76.4</td>\n",
       "      <td>82.175</td>\n",
       "      <td>88.6</td>\n",
       "    </tr>\n",
       "  </tbody>\n",
       "</table>\n",
       "<p>3 rows × 32 columns</p>\n",
       "</div>"
      ],
      "text/plain": [
       "        id                                                 temperature  \\\n",
       "     count  mean       std   min    25%   50%    75%   max       count   \n",
       "rain                                                                     \n",
       "1     30.0  15.5  8.803408   1.0   8.25  15.5  22.75  30.0        30.0   \n",
       "2     33.0  47.0  9.669540  31.0  39.00  47.0  55.00  63.0        33.0   \n",
       "3     34.0  80.5  9.958246  64.0  72.25  80.5  88.75  97.0        34.0   \n",
       "\n",
       "                 ... humidity       radiation                              \\\n",
       "           mean  ...      75%   max     count       mean        std   min   \n",
       "rain             ...                                                        \n",
       "1     16.660000  ...   85.650  94.6      30.0  50.256667   5.071603  41.6   \n",
       "2     18.021212  ...   75.900  79.9      33.0  53.869697  16.922368  20.1   \n",
       "3     24.155882  ...   46.775  49.6      34.0  74.926471   8.351095  60.9   \n",
       "\n",
       "                                  \n",
       "         25%   50%     75%   max  \n",
       "rain                              \n",
       "1     45.800  50.1  54.750  58.6  \n",
       "2     37.900  55.8  64.400  78.9  \n",
       "3     65.975  76.4  82.175  88.6  \n",
       "\n",
       "[3 rows x 32 columns]"
      ]
     },
     "execution_count": 2,
     "metadata": {},
     "output_type": "execute_result"
    }
   ],
   "source": [
    "# Carga de los datos de entrenamiento\n",
    "d_train = pd.read_csv(\"dataset/dataset_test.csv\")\n",
    "d_train.head(5)\n",
    "d_train.groupby('rain').describe()\n",
    "\n",
    "# d_train = pd.read_csv(\"dataset/seeds_dataset.csv\")\n",
    "# d_train.head(5)\n",
    "# d_train.groupby('salida').describe()\n"
   ]
  },
  {
   "cell_type": "markdown",
   "metadata": {},
   "source": [
    "## Normalizacion de dataset\n"
   ]
  },
  {
   "cell_type": "code",
   "execution_count": 3,
   "metadata": {},
   "outputs": [],
   "source": [
    "def normDataset(x, val):\n",
    "    return x/val\n"
   ]
  },
  {
   "cell_type": "code",
   "execution_count": 4,
   "metadata": {},
   "outputs": [
    {
     "data": {
      "text/html": [
       "<div>\n",
       "<style scoped>\n",
       "    .dataframe tbody tr th:only-of-type {\n",
       "        vertical-align: middle;\n",
       "    }\n",
       "\n",
       "    .dataframe tbody tr th {\n",
       "        vertical-align: top;\n",
       "    }\n",
       "\n",
       "    .dataframe thead th {\n",
       "        text-align: right;\n",
       "    }\n",
       "</style>\n",
       "<table border=\"1\" class=\"dataframe\">\n",
       "  <thead>\n",
       "    <tr style=\"text-align: right;\">\n",
       "      <th></th>\n",
       "      <th>id</th>\n",
       "      <th>temperature</th>\n",
       "      <th>humidity</th>\n",
       "      <th>radiation</th>\n",
       "      <th>rain</th>\n",
       "    </tr>\n",
       "  </thead>\n",
       "  <tbody>\n",
       "    <tr>\n",
       "      <th>0</th>\n",
       "      <td>1</td>\n",
       "      <td>0.145</td>\n",
       "      <td>0.810</td>\n",
       "      <td>0.456</td>\n",
       "      <td>1</td>\n",
       "    </tr>\n",
       "    <tr>\n",
       "      <th>1</th>\n",
       "      <td>2</td>\n",
       "      <td>0.186</td>\n",
       "      <td>0.934</td>\n",
       "      <td>0.455</td>\n",
       "      <td>1</td>\n",
       "    </tr>\n",
       "    <tr>\n",
       "      <th>2</th>\n",
       "      <td>3</td>\n",
       "      <td>0.158</td>\n",
       "      <td>0.666</td>\n",
       "      <td>0.549</td>\n",
       "      <td>1</td>\n",
       "    </tr>\n",
       "    <tr>\n",
       "      <th>3</th>\n",
       "      <td>4</td>\n",
       "      <td>0.179</td>\n",
       "      <td>0.786</td>\n",
       "      <td>0.416</td>\n",
       "      <td>1</td>\n",
       "    </tr>\n",
       "    <tr>\n",
       "      <th>4</th>\n",
       "      <td>5</td>\n",
       "      <td>0.149</td>\n",
       "      <td>0.888</td>\n",
       "      <td>0.512</td>\n",
       "      <td>1</td>\n",
       "    </tr>\n",
       "  </tbody>\n",
       "</table>\n",
       "</div>"
      ],
      "text/plain": [
       "   id  temperature  humidity  radiation  rain\n",
       "0   1        0.145     0.810      0.456     1\n",
       "1   2        0.186     0.934      0.455     1\n",
       "2   3        0.158     0.666      0.549     1\n",
       "3   4        0.179     0.786      0.416     1\n",
       "4   5        0.149     0.888      0.512     1"
      ]
     },
     "execution_count": 4,
     "metadata": {},
     "output_type": "execute_result"
    }
   ],
   "source": [
    "# normalizacion\n",
    "d_train[['temperature', 'humidity', 'radiation']] = d_train[['temperature', 'humidity', 'radiation']].apply(\n",
    "    lambda x: normDataset(x,100))\n",
    "# d_train[['var_1', 'var_2','var_3','var_4','var_5','var_6','var_7']] = d_train[['var_1', 'var_2','var_3','var_4','var_5','var_6','var_7']].apply(\n",
    "#     lambda x: normDataset(x,100))\n",
    "\n",
    "d_train.head(5)\n"
   ]
  },
  {
   "cell_type": "code",
   "execution_count": 5,
   "metadata": {},
   "outputs": [
    {
     "data": {
      "text/html": [
       "<div>\n",
       "<style scoped>\n",
       "    .dataframe tbody tr th:only-of-type {\n",
       "        vertical-align: middle;\n",
       "    }\n",
       "\n",
       "    .dataframe tbody tr th {\n",
       "        vertical-align: top;\n",
       "    }\n",
       "\n",
       "    .dataframe thead th {\n",
       "        text-align: right;\n",
       "    }\n",
       "</style>\n",
       "<table border=\"1\" class=\"dataframe\">\n",
       "  <thead>\n",
       "    <tr style=\"text-align: right;\">\n",
       "      <th></th>\n",
       "      <th>id</th>\n",
       "      <th>temperature</th>\n",
       "      <th>humidity</th>\n",
       "      <th>radiation</th>\n",
       "      <th>pequena</th>\n",
       "      <th>mediana</th>\n",
       "      <th>grande</th>\n",
       "    </tr>\n",
       "  </thead>\n",
       "  <tbody>\n",
       "    <tr>\n",
       "      <th>92</th>\n",
       "      <td>93</td>\n",
       "      <td>0.221</td>\n",
       "      <td>0.425</td>\n",
       "      <td>0.803</td>\n",
       "      <td>0</td>\n",
       "      <td>0</td>\n",
       "      <td>1</td>\n",
       "    </tr>\n",
       "    <tr>\n",
       "      <th>93</th>\n",
       "      <td>94</td>\n",
       "      <td>0.247</td>\n",
       "      <td>0.487</td>\n",
       "      <td>0.609</td>\n",
       "      <td>0</td>\n",
       "      <td>0</td>\n",
       "      <td>1</td>\n",
       "    </tr>\n",
       "    <tr>\n",
       "      <th>94</th>\n",
       "      <td>95</td>\n",
       "      <td>0.264</td>\n",
       "      <td>0.489</td>\n",
       "      <td>0.636</td>\n",
       "      <td>0</td>\n",
       "      <td>0</td>\n",
       "      <td>1</td>\n",
       "    </tr>\n",
       "    <tr>\n",
       "      <th>95</th>\n",
       "      <td>96</td>\n",
       "      <td>0.215</td>\n",
       "      <td>0.323</td>\n",
       "      <td>0.650</td>\n",
       "      <td>0</td>\n",
       "      <td>0</td>\n",
       "      <td>1</td>\n",
       "    </tr>\n",
       "    <tr>\n",
       "      <th>96</th>\n",
       "      <td>97</td>\n",
       "      <td>0.262</td>\n",
       "      <td>0.496</td>\n",
       "      <td>0.782</td>\n",
       "      <td>0</td>\n",
       "      <td>0</td>\n",
       "      <td>1</td>\n",
       "    </tr>\n",
       "  </tbody>\n",
       "</table>\n",
       "</div>"
      ],
      "text/plain": [
       "    id  temperature  humidity  radiation  pequena  mediana  grande\n",
       "92  93        0.221     0.425      0.803        0        0       1\n",
       "93  94        0.247     0.487      0.609        0        0       1\n",
       "94  95        0.264     0.489      0.636        0        0       1\n",
       "95  96        0.215     0.323      0.650        0        0       1\n",
       "96  97        0.262     0.496      0.782        0        0       1"
      ]
     },
     "execution_count": 5,
     "metadata": {},
     "output_type": "execute_result"
    }
   ],
   "source": [
    "# clean data\n",
    "dataset = d_train.dropna()\n",
    "\n",
    "# convert categorical 'Origin' data into one-hot data\n",
    "# origin = dataset.pop('salida')\n",
    "origin = dataset.pop('rain')\n",
    "dataset['pequena'] = (origin == 1)*1\n",
    "dataset['mediana'] = (origin == 2)*1\n",
    "dataset['grande'] = (origin == 3)*1\n",
    "\n",
    "dataset.tail()"
   ]
  },
  {
   "cell_type": "markdown",
   "metadata": {},
   "source": [
    "## Separacion de los datos\n",
    "\n",
    "agrupar los datos de entrenamiento y de validacion, separar las entradas de las salida y convertir las salidas en un vector de la forma [0,0,0] a paritr del dato\n"
   ]
  },
  {
   "cell_type": "code",
   "execution_count": 6,
   "metadata": {},
   "outputs": [],
   "source": [
    "# d_train_x = dataset[['var_1', 'var_2','var_3','var_4','var_5','var_6','var_7']].to_numpy()\n",
    "d_train_x = dataset[['temperature', 'humidity','radiation']].to_numpy()\n",
    "d_train_y = dataset[['pequena','mediana','grande']].to_numpy()\n",
    "\n",
    "# Split data into training and testing sets\n",
    "x_train, x_test, y_train, y_test = train_test_split(d_train_x, d_train_y, test_size=0.3)"
   ]
  },
  {
   "cell_type": "markdown",
   "metadata": {},
   "source": [
    "## Network creation\n",
    "\n",
    "creation of neural network class\n"
   ]
  },
  {
   "cell_type": "code",
   "execution_count": 7,
   "metadata": {},
   "outputs": [
    {
     "name": "stdout",
     "output_type": "stream",
     "text": [
      "Model: \"sequential\"\n",
      "_________________________________________________________________\n",
      " Layer (type)                Output Shape              Param #   \n",
      "=================================================================\n",
      " dense (Dense)               (None, 5)                 20        \n",
      "                                                                 \n",
      " dense_1 (Dense)             (None, 4)                 24        \n",
      "                                                                 \n",
      " dense_2 (Dense)             (None, 3)                 15        \n",
      "                                                                 \n",
      "=================================================================\n",
      "Total params: 59\n",
      "Trainable params: 59\n",
      "Non-trainable params: 0\n",
      "_________________________________________________________________\n",
      "None\n"
     ]
    }
   ],
   "source": [
    "# Using Keras more complex model\n",
    "# model\n",
    "modelo = tf.keras.Sequential([\n",
    "    tf.keras.layers.Dense(units=5, activation='sigmoid', input_shape=[3]), #  Hidden layer of 5 neurons with 3 input\n",
    "    tf.keras.layers.Dense(units=4, activation='sigmoid'), #  intermediate layer\n",
    "    tf.keras.layers.Dense(units=3, activation='sigmoid'),\n",
    "])\n",
    "\n",
    "print(modelo.summary())\n"
   ]
  },
  {
   "cell_type": "code",
   "execution_count": 8,
   "metadata": {},
   "outputs": [],
   "source": [
    "modelo.compile(\n",
    "    optimizer = tf.keras.optimizers.Adam(0.01),\n",
    "    loss = 'mean_squared_error'\n",
    ")\n",
    "\n",
    "#  modelo.sumary()"
   ]
  },
  {
   "cell_type": "code",
   "execution_count": 9,
   "metadata": {},
   "outputs": [
    {
     "data": {
      "image/png": "[encoded data removed]",
      "text/plain": [
       "<IPython.core.display.Image object>"
      ]
     },
     "execution_count": 9,
     "metadata": {},
     "output_type": "execute_result"
    }
   ],
   "source": [
    "dot_img_file = '/tmp/model_1.png'\n",
    "tf.keras.utils.plot_model(modelo, to_file=dot_img_file, show_shapes=True)"
   ]
  },
  {
   "cell_type": "markdown",
   "metadata": {},
   "source": [
    "## Model creation and training\n",
    "\n",
    "Creation of the model to predict seeds distribution"
   ]
  },
  {
   "cell_type": "code",
   "execution_count": 10,
   "metadata": {},
   "outputs": [
    {
     "name": "stdout",
     "output_type": "stream",
     "text": [
      "Comienza entrenamiento...\n",
      "Modelo entrenado!\n"
     ]
    }
   ],
   "source": [
    "print(\"Comienza entrenamiento...\")\n",
    "history = modelo.fit(x_train, y_train, epochs = 1000, batch_size=30, verbose = False)\n",
    "print(\"Modelo entrenado!\")"
   ]
  },
  {
   "cell_type": "code",
   "execution_count": 11,
   "metadata": {},
   "outputs": [
    {
     "data": {
      "text/plain": [
       "[<matplotlib.lines.Line2D at 0x160cbd810>]"
      ]
     },
     "execution_count": 11,
     "metadata": {},
     "output_type": "execute_result"
    },
    {
     "data": {
      "image/png": "[encoded data removed]",
      "text/plain": [
       "<Figure size 432x288 with 1 Axes>"
      ]
     },
     "metadata": {
      "needs_background": "light"
     },
     "output_type": "display_data"
    }
   ],
   "source": [
    "plt.xlabel(\"# Epoca\")\n",
    "plt.ylabel(\"Magnitud de perdida\")\n",
    "plt.plot(history.history[\"loss\"])"
   ]
  },
  {
   "cell_type": "markdown",
   "metadata": {},
   "source": [
    "## Validation process\n",
    "\n",
    "validate the Neural Network working with test data"
   ]
  },
  {
   "cell_type": "code",
   "execution_count": 12,
   "metadata": {},
   "outputs": [
    {
     "name": "stdout",
     "output_type": "stream",
     "text": [
      "(30, 3)\n",
      "1/1 [==============================] - 0s 123ms/step\n",
      "Accuracy Score: 86.67\n"
     ]
    }
   ],
   "source": [
    "# Make the prediction on test data and measure performance\n",
    "print(x_test.shape)\n",
    "y_pred = modelo.predict(x_test)\n",
    "\n",
    "y_test_out = np.argmax(y_test, axis=1)\n",
    "y_pred_out = np.argmax(y_pred, axis=1)\n",
    "print(f\"Accuracy Score: {np.round(accuracy_score(y_test_out, y_pred_out)*100,2)}\")"
   ]
  },
  {
   "cell_type": "code",
   "execution_count": 13,
   "metadata": {},
   "outputs": [
    {
     "name": "stdout",
     "output_type": "stream",
     "text": [
      "predict: 0, target: 0\n",
      "predict: 2, target: 2\n",
      "predict: 0, target: 1\n",
      "predict: 0, target: 0\n",
      "predict: 0, target: 0\n",
      "predict: 0, target: 1\n",
      "predict: 2, target: 2\n",
      "predict: 0, target: 0\n",
      "predict: 1, target: 1\n",
      "predict: 1, target: 0\n"
     ]
    }
   ],
   "source": [
    "# print some data test\n",
    "for i in range(10):\n",
    "    print(f\"predict: {y_pred_out[i]}, target: {y_test_out[i]}\")"
   ]
  }
 ],
 "metadata": {
  "kernelspec": {
   "display_name": "Python 3.10.6 64-bit",
   "language": "python",
   "name": "python3"
  },
  "language_info": {
   "codemirror_mode": {
    "name": "ipython",
    "version": 3
   },
   "file_extension": ".py",
   "mimetype": "text/x-python",
   "name": "python",
   "nbconvert_exporter": "python",
   "pygments_lexer": "ipython3",
   "version": "3.10.6"
  },
  "orig_nbformat": 4,
  "vscode": {
   "interpreter": {
    "hash": "aee8b7b246df8f9039afb4144a1f6fd8d2ca17a180786b69acc140d282b71a49"
   }
  }
 },
 "nbformat": 4,
 "nbformat_minor": 2
}
