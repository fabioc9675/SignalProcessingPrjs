{
 "cells": [
  {
   "cell_type": "markdown",
   "metadata": {},
   "source": [
    "# Fast Fourier Tansform Scratch\n",
    "\n",
    "Implementation of Fast Fourier Transform  Cooley and Turkey algorithm using python\n",
    "\n",
    "- Base link [FFT](https://www.youtube.com/watch?v=m53dNOpHmbg)"
   ]
  },
  {
   "cell_type": "code",
   "execution_count": 2,
   "metadata": {},
   "outputs": [],
   "source": [
    "import numpy as np\n",
    "import imageio\n",
    "import matplotlib.pyplot as plt\n",
    "import time\n",
    "from cmath import exp, pi"
   ]
  },
  {
   "cell_type": "markdown",
   "metadata": {},
   "source": [
    "THe Fast Fourier Transform (FFT) is a divide and conquer algorithm that recursively splits the input array into two parts: one for the odd indices, and another for the even indices, until the trivial case is achieved.\n",
    "\n",
    "It is important to note that complex exponentials (That can be decomposed into a sum of sine and cosine) are periodic and symmetric, and from those properties the FFT is defined.\n",
    "\n",
    "In particular, from $e^{-j\\frac{2*\\pi}{N}xu}$, we isolate the constant term, and define it as a variable:\n",
    "\n",
    "${W} = e^{-j\\frac{2*\\pi}{N}}$. Note ${W}$ is constant because it does not depend on the time sampling (controlled by $x$), nor depends on the frequencies ($u$)\n",
    "\n",
    "For example, for a signal with 4 observations, i.e. $N=4$"
   ]
  },
  {
   "cell_type": "code",
   "execution_count": 3,
   "metadata": {},
   "outputs": [
    {
     "name": "stdout",
     "output_type": "stream",
     "text": [
      "(6.123233995736766e-17-1j)\n"
     ]
    }
   ],
   "source": [
    "N = 4\n",
    "W = exp(-1j*(2*pi)/N)\n",
    "print(W)"
   ]
  },
  {
   "cell_type": "markdown",
   "metadata": {},
   "source": [
    "this value does not depend on $u$ nor $x$. The two properties we are going to use to implement the FFT are:\n",
    "\n",
    "1. Periodicity in u,x: $W_{N}^{ux}=W_{N}^{u(N+x)}=W_{N}^{(u+N)x}$\n",
    "2. Symmetry of the complex conjugate: $W_{N}^{u(N-x)}=W_{N}^{-ux}=(W_{N}^{ux})*$ for example this is easy to see for $x=N$, $W_{N}^{uN}=e^{-j2\\pi N} = 1$\n",
    "\n",
    "Now we define the \\textbf{division} step of the algorithm. This is done by decomposing the transform into even and odd indices of $x$. To avoid a cluttered notation, let us express the transform in terms of the variable $W$:\n",
    "\n",
    "$F(u) = \\sum_{x=0}^{N-1}{f(x)W_{N}^{ux}}$\n",
    "\n",
    "Now we write the function of evaluating the even indices $2x$ and the odd indices $2x+1$:\n",
    "\n",
    "$F(u) = \\sum_{x=0}^{N/2-1}{f(2x)W_{N}^{u2x}} + \\sum_{x=0}^{N/2-1}{f(2x+1)W_{N}^{u(2x+1)}}$\n",
    "\n",
    "Note $2x$ forms the sequence $0, 2, 4, 6,$ while $2x+1$ the sequence $1, 3, 5, 7$ as we wanted, therefore:\n",
    "\n",
    "$F(u) = \\sum_{x=0}^{N/2-1}{f(2x)\\cdot(W_{N}^{2})^{ux}} + \\sum_{x=0}^{N/2-1}{f(2x+1)\\cdot(W_{N}^{2})^{(2x+1)u}}$\n",
    "\n",
    "Let us manipultate this sum, isolating the terms that are independent of $x$, which is the $W_{N}^{u}$\n",
    "\n",
    "$F(u) = \\sum_{x=0}^{N/2-1}{f(2x)\\cdot(W_{N}^{2})^{ux}} + W_{N}^{u}\\cdot\\sum_{x=0}^{N/2-1}{f(2x+1)\\cdot(W_{N}^{2})^{ux}}$\n",
    "\n",
    "But we note that $W_{N}^{2} = e^{-j\\frac{2\\pi}{N}2} = e^{-j\\frac{2\\pi}{N/2}} = W_{N/2}$\n",
    "\n",
    "and this is defines the 'trick', since it allows to write the transform as:\n",
    "\n",
    "$F(u) = \\sum_{x=0}^{N/2-1}{f(2x)\\cdot W_{N/2}^{ux}} + W_{N}^{u}\\cdot\\sum_{x=0}^{N/2-1}{f(2x+1)\\cdot W_{N/2}^{ux}}$\n",
    "\n",
    "The first term is the DFT of the $N/2$ elements corresponding to the even indices, the second term is the DFT of the $N/2$ elements related to the odd indices.\n",
    "\n",
    "This way, we can split the DFT of $N$ elements, in a recursive way, into two $N/2$ DFTs, and later combine the results:\n",
    "\n",
    "$F(u) = F_{even}(u)+W_{N}^{u}\\cdot F_{odd}(u)$\n",
    "\n",
    "Recall the property of symmetry of the complex conjugate:\n",
    "\n",
    "$F(u + N/2) = F_{even}(u)-W_{N}^{u}\\cdot F_{odd}(u)$"
   ]
  },
  {
   "cell_type": "code",
   "execution_count": 7,
   "metadata": {},
   "outputs": [
    {
     "data": {
      "text/plain": [
       "[0, 100, 200, 300]"
      ]
     },
     "execution_count": 7,
     "metadata": {},
     "output_type": "execute_result"
    }
   ],
   "source": [
    "# Let us try to grasp this idea for a small example\n",
    "N = 4\n",
    "f = [0, 100, 200, 300]\n",
    "f"
   ]
  },
  {
   "cell_type": "code",
   "execution_count": 8,
   "metadata": {},
   "outputs": [
    {
     "name": "stdout",
     "output_type": "stream",
     "text": [
      "[0, 200]\n",
      "[100, 300]\n"
     ]
    }
   ],
   "source": [
    "# splitting the array into even and odd indices\n",
    "f_even = f[0::2]\n",
    "f_odd  = f[1::2]\n",
    "print(f_even)\n",
    "print(f_odd)"
   ]
  },
  {
   "cell_type": "code",
   "execution_count": 9,
   "metadata": {},
   "outputs": [
    {
     "name": "stdout",
     "output_type": "stream",
     "text": [
      "[0]\n",
      "[200]\n"
     ]
    }
   ],
   "source": [
    "# Recursively, we split the reeuslting arrays, first the even, into even and odd\n",
    "f_even_even = f_even[0::2]\n",
    "f_even_odd  = f_even[1::2]\n",
    "print(f_even_even)\n",
    "print(f_even_odd)"
   ]
  },
  {
   "cell_type": "markdown",
   "metadata": {},
   "source": [
    "In this example, we partition the elements until we reach the base case, that is when there is only 1 even and 1 odd element, allowing to compute:"
   ]
  },
  {
   "cell_type": "code",
   "execution_count": 10,
   "metadata": {},
   "outputs": [
    {
     "name": "stdout",
     "output_type": "stream",
     "text": [
      "[(200+0j), (-200+0j)]\n"
     ]
    }
   ],
   "source": [
    "reseven0 = f_even_even[0] + exp(-2j*pi*0/N) * f_even_odd[0]\n",
    "reseven1 = f_even_even[0] - exp(-2j*pi*0/N) * f_even_odd[0]\n",
    "reseven = [reseven0, reseven1]\n",
    "print(reseven)"
   ]
  },
  {
   "cell_type": "markdown",
   "metadata": {},
   "source": [
    "Now this result is stored and we execute the other 'side' of the recursion, relative to the first odd indices"
   ]
  },
  {
   "cell_type": "code",
   "execution_count": 11,
   "metadata": {},
   "outputs": [
    {
     "name": "stdout",
     "output_type": "stream",
     "text": [
      "[100]\n",
      "[300]\n"
     ]
    }
   ],
   "source": [
    "# separate the odd indices, into even and odd indices\n",
    "f_odd_even = f_odd[0::2]\n",
    "f_odd_odd  = f_odd[1::2]\n",
    "print(f_odd_even)\n",
    "print(f_odd_odd)"
   ]
  },
  {
   "cell_type": "code",
   "execution_count": 12,
   "metadata": {},
   "outputs": [
    {
     "name": "stdout",
     "output_type": "stream",
     "text": [
      "[(400+0j), (-200+0j)]\n"
     ]
    }
   ],
   "source": [
    "resodd0 = f_odd_even[0] + exp(-2j*pi*0/N) * f_odd_odd[0]\n",
    "resodd1 = f_odd_even[0] - exp(-2j*pi*0/N) * f_odd_odd[0]\n",
    "resodd = [resodd0, resodd1]\n",
    "print(resodd)"
   ]
  },
  {
   "cell_type": "markdown",
   "metadata": {},
   "source": [
    "Now combining the individual results (reseven and resodd):"
   ]
  },
  {
   "cell_type": "code",
   "execution_count": 13,
   "metadata": {},
   "outputs": [
    {
     "name": "stdout",
     "output_type": "stream",
     "text": [
      "[ 600.  +0.j -200.+200.j -200.  +0.j -200.-200.j]\n"
     ]
    }
   ],
   "source": [
    "# from the symmetruc property, I can use the result 0 to also obtain the value for 0+N/2 = N/4 = 2, changing the signal\n",
    "res0 = reseven[0] + exp(-2j*pi*0/N) * resodd[0]\n",
    "res2 = reseven[0] - exp(-2j*pi*0/N) * resodd[0]\n",
    "\n",
    "# Similarly the result 1 is used to obain the result of 1+N/2 = 1+N/4 = 3\n",
    "res1 = reseven[1] + exp(-2j*pi*1/N) * resodd[1]\n",
    "res3 = reseven[1] - exp(-2j*pi*1/N) * resodd[1]\n",
    "\n",
    "# putting everything together\n",
    "F_manual = np.array([res0, res1, res2, res3]).astype(np.complex64)\n",
    "print(F_manual)"
   ]
  },
  {
   "cell_type": "markdown",
   "metadata": {},
   "source": [
    "### Test with scipy fft"
   ]
  },
  {
   "cell_type": "code",
   "execution_count": 16,
   "metadata": {},
   "outputs": [
    {
     "name": "stdout",
     "output_type": "stream",
     "text": [
      "[ 600.  -0.j -200.+200.j -200.  -0.j -200.-200.j]\n"
     ]
    }
   ],
   "source": [
    "from scipy.fft import fft, ifft\n",
    "x = np.array([0, 100, 200, 300])\n",
    "y = fft(x)\n",
    "print(y)\n",
    "# res = ifft(y)\n",
    "# print(res)"
   ]
  },
  {
   "cell_type": "markdown",
   "metadata": {},
   "source": [
    "## Algorithm\n",
    "\n",
    "Let us code a function for this algorithm\n",
    "\n",
    "### improvement for the future\n",
    "\n",
    "it is necesary that consider to increment the size of the array until a power of 2 value to improve the result (2**n)"
   ]
  },
  {
   "cell_type": "code",
   "execution_count": 18,
   "metadata": {},
   "outputs": [],
   "source": [
    "def FFT(f): \n",
    "    N = len(f)\n",
    "    if N <= 1:\n",
    "        return f\n",
    "\n",
    "    # division\n",
    "    even = FFT(f[0::2])\n",
    "    odd  = FFT(f[1::2])\n",
    "\n",
    "    # store the combination of results\n",
    "    temp = np.zeros(N).astype(np.complex64)\n",
    "\n",
    "    # only required to compute for half the frequencies\n",
    "    # since u+N/2 can be obtained from the symmetriy property\n",
    "    for u in range(N//2):\n",
    "        temp[u] = even[u] + exp(-2j*pi*u/N) * odd[u] #conquer\n",
    "        temp[u+N//2] = even[u] - exp(-2j*pi*u/N) * odd[u] #conquer\n",
    "\n",
    "    return temp"
   ]
  },
  {
   "cell_type": "code",
   "execution_count": 19,
   "metadata": {},
   "outputs": [
    {
     "name": "stdout",
     "output_type": "stream",
     "text": [
      "[ 600.  +0.j -200.+200.j -200.  +0.j -200.-200.j]\n"
     ]
    }
   ],
   "source": [
    "# testing the funtion to see if it matches the manual computation\n",
    "F_fft = FFT(f)\n",
    "print(F_fft)"
   ]
  },
  {
   "cell_type": "markdown",
   "metadata": {},
   "source": [
    "Let us comparte with DFT1D"
   ]
  },
  {
   "cell_type": "code",
   "execution_count": 20,
   "metadata": {},
   "outputs": [],
   "source": [
    "def DFT1D(f):\n",
    "    #create empty array of complex coefficients\n",
    "    F = np.zeros(f.shape, dtype=np.complex64)\n",
    "    n = f.shape[0]\n",
    "\n",
    "    # Creating indices for x, allowing to compute the multiplication\n",
    "    x = np.arange(n)\n",
    "    # for each frequency 'u', perform vectorial multiplication\n",
    "    for u in np.arange(n):\n",
    "        F[u] = np.sum(f*np.exp((-1j * 2 * np.pi * u*x) / n))\n",
    "    return F"
   ]
  },
  {
   "cell_type": "code",
   "execution_count": 21,
   "metadata": {},
   "outputs": [
    {
     "name": "stdout",
     "output_type": "stream",
     "text": [
      "[ 600.+0.000000e+00j -200.+2.000000e+02j -200.-7.347881e-14j\n",
      " -200.-2.000000e+02j]\n"
     ]
    }
   ],
   "source": [
    "F_dft = DFT1D(np.array(f))\n",
    "print(F_dft)"
   ]
  },
  {
   "cell_type": "code",
   "execution_count": 22,
   "metadata": {},
   "outputs": [
    {
     "name": "stdout",
     "output_type": "stream",
     "text": [
      "[ 600.  +0.j -200.+200.j -200.  +0.j -200.-200.j]\n",
      "[ 600.  +0.j -200.+200.j -200.  +0.j -200.-200.j]\n",
      "[ 600.+0.000000e+00j -200.+2.000000e+02j -200.-7.347881e-14j\n",
      " -200.-2.000000e+02j]\n"
     ]
    }
   ],
   "source": [
    "print(F_manual)\n",
    "print(F_fft)\n",
    "print(F_dft)\n"
   ]
  },
  {
   "cell_type": "markdown",
   "metadata": {},
   "source": [
    "Due to the approximation, sometimes a small error is observed between the results"
   ]
  },
  {
   "cell_type": "markdown",
   "metadata": {},
   "source": [
    "### Performance time compare"
   ]
  },
  {
   "cell_type": "code",
   "execution_count": 63,
   "metadata": {},
   "outputs": [
    {
     "name": "stdout",
     "output_type": "stream",
     "text": [
      "(16384,)\n"
     ]
    },
    {
     "data": {
      "text/plain": [
       "[<matplotlib.lines.Line2D at 0x1b46ecb0e20>]"
      ]
     },
     "execution_count": 63,
     "metadata": {},
     "output_type": "execute_result"
    },
    {
     "data": {
      "image/png": "[encoded data removed]",
      "text/plain": [
       "<Figure size 432x288 with 1 Axes>"
      ]
     },
     "metadata": {
      "needs_background": "light"
     },
     "output_type": "display_data"
    }
   ],
   "source": [
    "Fs = 10000\n",
    "L= 2**14\n",
    "t = np.arange(0, (L)/Fs, 1/Fs)\n",
    "f_in = 1*np.sin(t*(2*np.pi)*2) + 0.6*np.cos(t*(2*np.pi)*8) + 0.4*np.cos(t*(2*np.pi)*200) + 0.5*np.sin(t*(2*np.pi)*2000)\n",
    "freq = Fs*np.arange(0,(L/2))/L\n",
    "print(f_in.shape)\n",
    "\n",
    "plt.plot(t,f_in)"
   ]
  },
  {
   "cell_type": "markdown",
   "metadata": {},
   "source": [
    "Using scipy fft"
   ]
  },
  {
   "cell_type": "code",
   "execution_count": 66,
   "metadata": {},
   "outputs": [
    {
     "data": {
      "text/plain": [
       "[<matplotlib.lines.Line2D at 0x1b472b7d660>]"
      ]
     },
     "execution_count": 66,
     "metadata": {},
     "output_type": "execute_result"
    },
    {
     "data": {
      "image/png": "[encoded data removed]",
      "text/plain": [
       "<Figure size 432x288 with 1 Axes>"
      ]
     },
     "metadata": {
      "needs_background": "light"
     },
     "output_type": "display_data"
    }
   ],
   "source": [
    "y_fft = fft(f_in)\n",
    "\n",
    "plt.plot(freq,np.abs(y_fft)[0:int(L/2)])"
   ]
  },
  {
   "cell_type": "markdown",
   "metadata": {},
   "source": [
    "Using def FFT"
   ]
  },
  {
   "cell_type": "code",
   "execution_count": 67,
   "metadata": {},
   "outputs": [
    {
     "data": {
      "text/plain": [
       "[<matplotlib.lines.Line2D at 0x1b472bc82e0>]"
      ]
     },
     "execution_count": 67,
     "metadata": {},
     "output_type": "execute_result"
    },
    {
     "data": {
      "image/png": "[encoded data removed]",
      "text/plain": [
       "<Figure size 432x288 with 1 Axes>"
      ]
     },
     "metadata": {
      "needs_background": "light"
     },
     "output_type": "display_data"
    }
   ],
   "source": [
    "y_FFT = FFT(f_in) # it works well if N = 2**n value\n",
    "\n",
    "plt.plot(freq,np.abs(y_FFT)[0:int(L/2)])"
   ]
  },
  {
   "cell_type": "markdown",
   "metadata": {},
   "source": [
    "Using DFT1d"
   ]
  },
  {
   "cell_type": "code",
   "execution_count": 68,
   "metadata": {},
   "outputs": [
    {
     "data": {
      "text/plain": [
       "[<matplotlib.lines.Line2D at 0x1b472c130d0>]"
      ]
     },
     "execution_count": 68,
     "metadata": {},
     "output_type": "execute_result"
    },
    {
     "data": {
      "image/png": "[encoded data removed]",
      "text/plain": [
       "<Figure size 432x288 with 1 Axes>"
      ]
     },
     "metadata": {
      "needs_background": "light"
     },
     "output_type": "display_data"
    }
   ],
   "source": [
    "y_dft = DFT1D(f_in)\n",
    "\n",
    "plt.plot(freq,np.abs(y_dft)[0:int(L/2)])"
   ]
  },
  {
   "cell_type": "code",
   "execution_count": 62,
   "metadata": {},
   "outputs": [
    {
     "name": "stdout",
     "output_type": "stream",
     "text": [
      "scipy FFT (s):\n",
      "0.00038256000261753796\n",
      "def FFT (s):\n",
      "0.7122551799984649\n",
      "DFT1d (s):\n",
      "18.189015100011602\n"
     ]
    }
   ],
   "source": [
    "import timeit # to measure the performance of the execution\n",
    "\n",
    "print('scipy FFT (s):')\n",
    "cpu_time = timeit.timeit('fft(f_in)', number=5, setup=\"from __main__ import fft, f_in\")\n",
    "print(cpu_time/5)\n",
    "\n",
    "print('def FFT (s):')\n",
    "cpu_time = timeit.timeit('FFT(f_in)', number=5, setup=\"from __main__ import FFT, f_in\")\n",
    "print(cpu_time/5)\n",
    "\n",
    "print('DFT1d (s):')\n",
    "cpu_time = timeit.timeit('DFT1D(f_in)', number=1, setup=\"from __main__ import DFT1D, f_in\")\n",
    "print(cpu_time/1)"
   ]
  }
 ],
 "metadata": {
  "kernelspec": {
   "display_name": "Python 3.10.0 64-bit",
   "language": "python",
   "name": "python3"
  },
  "language_info": {
   "codemirror_mode": {
    "name": "ipython",
    "version": 3
   },
   "file_extension": ".py",
   "mimetype": "text/x-python",
   "name": "python",
   "nbconvert_exporter": "python",
   "pygments_lexer": "ipython3",
   "version": "3.10.0"
  },
  "orig_nbformat": 4,
  "vscode": {
   "interpreter": {
    "hash": "369f2c481f4da34e4445cda3fffd2e751bd1c4d706f27375911949ba6bb62e1c"
   }
  }
 },
 "nbformat": 4,
 "nbformat_minor": 2
}
