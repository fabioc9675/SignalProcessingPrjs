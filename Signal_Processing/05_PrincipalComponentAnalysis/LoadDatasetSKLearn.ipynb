{
 "cells": [
  {
   "cell_type": "markdown",
   "metadata": {},
   "source": [
    "# SCIKit Learn Datasets\n",
    "\n",
    "This script is to use the SciKit Datasets\n",
    "\n",
    "- Way to load"
   ]
  },
  {
   "cell_type": "code",
   "execution_count": null,
   "metadata": {},
   "outputs": [],
   "source": [
    "# !pip install heatmapz"
   ]
  },
  {
   "cell_type": "code",
   "execution_count": null,
   "metadata": {},
   "outputs": [],
   "source": [
    "from sklearn import datasets\n",
    "import pandas as pd\n",
    "import numpy as np\n",
    "import matplotlib.pyplot as plt\n",
    "import seaborn as sns\n",
    "\n",
    "from heatmap import heatmap, corrplot\n",
    "\n",
    "# Load data for flower iris classification\n",
    "dataIris = datasets.load_iris()\n",
    "\n",
    "# Load data for diabetes\n",
    "dataDiabetes = datasets.load_diabetes()\n",
    "\n",
    "# Load data for cancer\n",
    "dataCancer = datasets.load_breast_cancer()\n",
    "\n"
   ]
  },
  {
   "cell_type": "markdown",
   "metadata": {},
   "source": [
    "## Preparing the data to evaluate \n",
    "\n",
    "Estas variables independientes o explicativas están dispuestas ya en una matriz de correlación, que es una tabla de doble entrada para A B y C, que muestra una lista multivariable horizontalmente y la misma lista verticalmente y con el correspondiente coeficiente de correlación llamado r o la relación entre cada pareja en cada celda, expresada con un número que va desde 0 a 1. El modelo mide y muestra la interdependencia en relaciones asociadas o entre cada pareja de variables y todas al mismo tiempo."
   ]
  },
  {
   "cell_type": "markdown",
   "metadata": {},
   "source": [
    "## Correlogram\n",
    "\n",
    "### Correlacion de Pearson\n",
    "\n",
    "${\\displaystyle \\rho _{X,Y}={\\sigma _{XY} \\over \\sigma _{X}\\sigma _{Y}}={\\frac {\\operatorname {Cov} (X,Y)}{\\sqrt {\\operatorname {Var} (X)\\operatorname {Var} (Y)}}}}$\n",
    "\n",
    "### Varianza\n",
    "\n",
    "${\\displaystyle \\operatorname {Var} (X)=\\sum _{x\\in R_{X}}(x-\\mu )^{2}}$\n",
    "\n",
    "### Covarianza\n",
    "\n",
    "${\\displaystyle \\operatorname {Cov} (X,Y)={\\frac {1}{2n^{2}}}\\sum _{i=2}^{n}\\sum _{j=1}^{n}\\left(x_{i}-x_{j}\\right)\\left(y_{i}-y_{j}\\right)}$\n",
    "\n"
   ]
  },
  {
   "cell_type": "code",
   "execution_count": null,
   "metadata": {},
   "outputs": [],
   "source": [
    "dfIris = pd.DataFrame(dataIris['data'], columns=dataIris['feature_names']).assign(Species=dataIris['target_names'][dataIris['target']])\n",
    "dfIris.head()"
   ]
  },
  {
   "cell_type": "code",
   "execution_count": null,
   "metadata": {},
   "outputs": [],
   "source": [
    "corr = dfIris.corr() # Calculates correlation matrix\n",
    "\n",
    "plt.figure(figsize=(4, 4))\n",
    "corrplot(corr, size_scale=300);"
   ]
  },
  {
   "cell_type": "code",
   "execution_count": null,
   "metadata": {},
   "outputs": [],
   "source": [
    "dfdiabetes = pd.DataFrame(dataDiabetes['data'], columns=dataDiabetes['feature_names'])\n",
    "dfdiabetes.head()"
   ]
  },
  {
   "cell_type": "code",
   "execution_count": null,
   "metadata": {},
   "outputs": [],
   "source": [
    "corr = dfdiabetes.corr() # Calculates correlation matrix\n",
    "\n",
    "plt.figure(figsize=(10, 10))\n",
    "corrplot(corr, size_scale=300);"
   ]
  },
  {
   "cell_type": "code",
   "execution_count": null,
   "metadata": {},
   "outputs": [],
   "source": [
    "dfCancer = pd.DataFrame(dataCancer['data'], columns=dataCancer['feature_names']).assign(Diagnosis=dataCancer['target_names'][dataCancer['target']])\n",
    "dfCancer.head()"
   ]
  },
  {
   "cell_type": "code",
   "execution_count": null,
   "metadata": {},
   "outputs": [],
   "source": [
    "corr = dfCancer.corr() # Calculates correlation matrix\n",
    "\n",
    "plt.figure(figsize=(10, 10))\n",
    "corrplot(corr, size_scale=300);"
   ]
  },
  {
   "cell_type": "code",
   "execution_count": null,
   "metadata": {},
   "outputs": [],
   "source": [
    "sns.pairplot(dfIris, kind=\"scatter\")\n",
    "plt.show()"
   ]
  },
  {
   "cell_type": "code",
   "execution_count": null,
   "metadata": {},
   "outputs": [],
   "source": [
    "sns.pairplot(dfdiabetes, kind=\"scatter\")\n",
    "plt.show()"
   ]
  },
  {
   "cell_type": "code",
   "execution_count": null,
   "metadata": {},
   "outputs": [],
   "source": [
    "sns.pairplot(dfCancer, kind=\"scatter\")\n",
    "plt.show()"
   ]
  }
 ],
 "metadata": {
  "kernelspec": {
   "display_name": "Python 3.10.0 64-bit",
   "language": "python",
   "name": "python3"
  },
  "language_info": {
   "codemirror_mode": {
    "name": "ipython",
    "version": 3
   },
   "file_extension": ".py",
   "mimetype": "text/x-python",
   "name": "python",
   "nbconvert_exporter": "python",
   "pygments_lexer": "ipython3",
   "version": "3.10.0"
  },
  "orig_nbformat": 4,
  "vscode": {
   "interpreter": {
    "hash": "369f2c481f4da34e4445cda3fffd2e751bd1c4d706f27375911949ba6bb62e1c"
   }
  }
 },
 "nbformat": 4,
 "nbformat_minor": 2
}
