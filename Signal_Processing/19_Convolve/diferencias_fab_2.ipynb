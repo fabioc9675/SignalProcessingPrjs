{
 "cells": [
  {
   "cell_type": "markdown",
   "metadata": {},
   "source": [
    "# Solucion ecuacion diferencial por ecuaciones en diferencias"
   ]
  },
  {
   "cell_type": "markdown",
   "metadata": {},
   "source": [
    "La ecuacion a solucionar es\n",
    "\n",
    "$$\n",
    "y''(t)+y'(t)+y(t) = 0\n",
    "$$\n",
    "\n",
    "$y(0) = 1$\n",
    "\n",
    "$y'(0) = -0.5$\n",
    "\n",
    "\n"
   ]
  },
  {
   "cell_type": "markdown",
   "metadata": {},
   "source": [
    "### Ecuaciones en diferencias\n",
    "\n",
    "se puede discretizar una ecuacion diferencial de la siguiente manera:\n",
    "\n",
    "tomar las siguientes aproximaciones\n",
    "\n",
    "$\\frac{dy(t)}{dt}\\rightarrow\\frac{y[n]-y[n-1]}{Tm}$\n",
    "\n",
    "$\\frac{d^2y(t)}{dt^2}\\rightarrow\\frac{y[n]-2y[n-1]+y[n-2]}{Tm^2}$\n",
    "\n",
    "$\\frac{d^3y(t)}{dt^3}\\rightarrow\\frac{y[n]+3y[n-1]+3y[n-2]-y[n-3]}{Tm^3}$"
   ]
  },
  {
   "cell_type": "markdown",
   "metadata": {},
   "source": [
    "La discretizacion de la ecuacion se realiza ase:\n",
    "\n",
    "$y''(t)+y'(t)+y(t) = 0$ se puede transformar en:\n",
    "\n",
    "$\\frac{y[n]-2y[n-1]+y[n-2]}{Tm^2}+\\frac{y[n]-y[n-1]}{Tm}+y[n]=0$\n",
    "\n",
    "Esto se simplifica como\n",
    "\n",
    "$\\frac{y[n]-2y[n-1]+y[n-2]+Tm y[n]-Tm y[n-1] +Tm^2 y^n}{Tm^2}=0$\n",
    "\n",
    "Simplificando nos queda\n",
    "\n",
    "$y[n](1+Tm+Tm^2) - y[n-1](2+Tm) + y[n-2] = 0$\n",
    "\n",
    "y las condiciones iniciales quedarian\n",
    "\n",
    "$y(0) = 1$, entonces $y[0] = 1$\n",
    "\n",
    "$y'(0) = -0.5$, entonces $\\frac{y[1]-y[0]}{Tm} = -0.5$\n",
    "\n",
    "sumando ambas ecuaciones nos queda que\n",
    "\n",
    "$y[1] = 1-0.5*Tm$"
   ]
  },
  {
   "cell_type": "code",
   "execution_count": 1,
   "metadata": {},
   "outputs": [],
   "source": [
    "import sympy as sym\n",
    "import numpy as np\n",
    "import matplotlib.pyplot as plt"
   ]
  },
  {
   "cell_type": "markdown",
   "metadata": {},
   "source": [
    "### Solucion analitica\n",
    "\n",
    "http://blog.espol.edu.ec/analisisnumerico/edo-lineal-solucion-complementaria-y-particular-con-sympy/"
   ]
  },
  {
   "cell_type": "code",
   "execution_count": 6,
   "metadata": {},
   "outputs": [
    {
     "name": "stdout",
     "output_type": "stream",
     "text": [
      "                                       2                       \n",
      "                          d           d                d       \n",
      "-100000000.0⋅i(t) - 500.0⋅──(i(t)) + ───(i(t)) = 100.0⋅──(v(t))\n",
      "                          dt           2               dt      \n",
      "                                     dt                        \n"
     ]
    }
   ],
   "source": [
    "t = sym.Symbol('t')\n",
    "i = sym.Function('i')\n",
    "v = sym.Function('v')\n",
    "R = 5\n",
    "L = 0.01\n",
    "C = 1E-6\n",
    "\n",
    "\n",
    "# Se plantea la ecuacion diferencial\n",
    "f = sym.diff(i(t),t,2) - (R/L)*sym.diff(i(t),t,1) - (1/(L*C))*i(t) \n",
    "g = (1/L)*sym.diff(v(t),t,1)\n",
    "eq = sym.Eq(f,g)\n",
    "\n",
    "# Condiciones iniciales\n",
    "i_cond = {i(0): 0, sym.diff(i(t),t,1).subs(t,0) : (10/L)}\n",
    "\n",
    "sym.pprint(eq)"
   ]
  },
  {
   "cell_type": "code",
   "execution_count": 7,
   "metadata": {},
   "outputs": [],
   "source": [
    "#Entrada conocida\n",
    "vp = 10*sym.cos(3500*t)"
   ]
  },
  {
   "cell_type": "code",
   "execution_count": 8,
   "metadata": {},
   "outputs": [
    {
     "data": {
      "text/plain": [
       "('factorable',\n",
       " 'nth_linear_constant_coeff_variation_of_parameters',\n",
       " 'nth_linear_constant_coeff_variation_of_parameters_Integral')"
      ]
     },
     "execution_count": 8,
     "metadata": {},
     "output_type": "execute_result"
    }
   ],
   "source": [
    "sym.classify_ode(eq, i(t))"
   ]
  },
  {
   "cell_type": "code",
   "execution_count": 16,
   "metadata": {},
   "outputs": [
    {
     "name": "stdout",
     "output_type": "stream",
     "text": [
      "                                       2      \n",
      "                          d           d       \n",
      "-100000000.0⋅i(t) - 500.0⋅──(i(t)) + ───(i(t))\n",
      "                          dt           2      \n",
      "                                     dt       \n",
      "                           10253.1245118713⋅t                       -9753.1245\n",
      "i(t) = 0.0499843823204061⋅ℯ                   - 0.0499843823204061⋅ℯ          \n",
      "\n",
      "1187128⋅t\n",
      "         \n"
     ]
    }
   ],
   "source": [
    "# Solucion homogenea, v(t) = 0\n",
    "RHSx0 = eq.rhs.subs(v(t),0).doit()\n",
    "LHSx0 = eq.lhs.subs(v(t),0).doit()\n",
    "homogenea = LHSx0 - RHSx0\n",
    "\n",
    "sym.pprint(homogenea)\n",
    "\n",
    "# solucion general de ecuación homogénea\n",
    "ic = sym.dsolve(homogenea, i(t),ics=i_cond)\n",
    "ic = ic.expand()\n",
    "sym.pprint(ic)"
   ]
  },
  {
   "cell_type": "code",
   "execution_count": 15,
   "metadata": {},
   "outputs": [
    {
     "name": "stdout",
     "output_type": "stream",
     "text": [
      "                                                               2      \n",
      "                                                  d           d       \n",
      "-100000000.0⋅i(t) + 3500000.0⋅sin(3500⋅t) - 500.0⋅──(i(t)) + ───(i(t))\n",
      "                                                  dt           2      \n",
      "                                                             dt       \n",
      "           -9753.12451187128⋅t       10253.1245118713⋅t                       \n",
      "i(t) = C₁⋅ℯ                    + C₂⋅ℯ                   + 0.0311728242003471⋅s\n",
      "\n",
      "                                                 \n",
      "in(3500.0⋅t) - 0.000485990577733697⋅cos(3500.0⋅t)\n"
     ]
    }
   ],
   "source": [
    "# Solucion particular\n",
    "# ecuación particular x(t)=0, estado cero\n",
    "RHSxp = eq.rhs.subs(v(t),vp).doit()\n",
    "LHSxp = eq.lhs.subs(v(t),vp).doit()\n",
    "particular = LHSxp - RHSxp\n",
    "\n",
    "sym.pprint(particular)\n",
    "\n",
    "# solucion particular de ecuación homogénea\n",
    "ip = sym.dsolve(particular, i(t))\n",
    "\n",
    "sym.pprint(ip)"
   ]
  },
  {
   "cell_type": "code",
   "execution_count": 18,
   "metadata": {},
   "outputs": [],
   "source": [
    "# particular sin terminos Ci\n",
    "i_Ci = ip.free_symbols\n",
    "i_Ci.remove(t) # solo Ci\n",
    "for Ci in i_Ci: \n",
    "    ip = ip.subs(Ci,0)"
   ]
  },
  {
   "cell_type": "code",
   "execution_count": 19,
   "metadata": {},
   "outputs": [
    {
     "name": "stdout",
     "output_type": "stream",
     "text": [
      "                                       2                       \n",
      "                          d           d                d       \n",
      "-100000000.0⋅i(t) - 500.0⋅──(i(t)) + ───(i(t)) = 100.0⋅──(v(t))\n",
      "                          dt           2               dt      \n",
      "                                     dt                        \n",
      "                    10253.1245118713⋅t                                        \n",
      "0.0499843823204061⋅ℯ                   + 0.0311728242003471⋅sin(3500.0⋅t) - 0.\n",
      "\n",
      "                                                       -9753.12451187128⋅t\n",
      "000485990577733697⋅cos(3500.0⋅t) - 0.0499843823204061⋅ℯ                   \n"
     ]
    }
   ],
   "source": [
    "# Se soluciona la ecuacion diferencial\n",
    "itotal = ic.rhs + ip.rhs\n",
    "\n",
    "sym.pprint(eq)\n",
    "\n",
    "sym.pprint(itotal) # rhs soo toma la solucion"
   ]
  },
  {
   "cell_type": "code",
   "execution_count": 21,
   "metadata": {},
   "outputs": [
    {
     "data": {
      "image/png": "[encoded data removed]",
      "text/plain": [
       "<Figure size 640x480 with 1 Axes>"
      ]
     },
     "metadata": {},
     "output_type": "display_data"
    }
   ],
   "source": [
    "equivalentes = [{'DiracDelta': lambda x: 1*(x==0)},\n",
    "                {'Heaviside': lambda x,y: np.heaviside(x, 1)},\n",
    "                'numpy',] #, {'h':h}]\n",
    "                \n",
    "Tm = 0.0001\n",
    "tm = np.arange(0,0.025,Tm)\n",
    "i_t = sym.lambdify(t, itotal, modules=equivalentes)\n",
    "it = i_t(tm)\n",
    "\n",
    "plt.plot(tm,it)\n",
    "plt.xlabel(\"t (seg)\")\n",
    "plt.ylabel(\"y(t)\")\n",
    "plt.title(\"Solución\")\n",
    "plt.grid(True)"
   ]
  },
  {
   "cell_type": "markdown",
   "metadata": {},
   "source": [
    "### Solucion por ecuaciones en diferencias\n",
    "\n",
    "$y[n](1+Tm+Tm^2) - y[n-1](2+Tm) + y[n-2] = 0$\n",
    "\n",
    "La podemos reescribir como:\n",
    "\n",
    "$y[n] = \\frac{y[n-1]*C2-y[n-2]}{C1}$\n",
    "\n",
    "Donde $C1 = (1+Tm+Tm^2)$, $C2 = (2+Tm)$, $y[0] = 1$ y $y[1] = 1-0.5*Tm$"
   ]
  },
  {
   "cell_type": "code",
   "execution_count": null,
   "metadata": {},
   "outputs": [],
   "source": [
    "Tm = 0.01\n",
    "t = np.arange(0,20,Tm)\n",
    "y = np.zeros(len(t))\n",
    "\n",
    "y[0] = 1\n",
    "y[1] = 1-0.5*Tm # condiciones iniciales\n",
    "\n",
    "c1 = 1+Tm+Tm**2\n",
    "c2 = 2+Tm\n",
    "\n",
    "for n in range(2,len(t)):\n",
    "    y[n] = (y[n-1]*c2-y[n-2])/c1\n",
    "\n",
    "plt.plot(t,y)\n",
    "plt.xlabel(\"t (seg)\")\n",
    "plt.ylabel(\"y[n]\")\n",
    "plt.title(\"Solución\")\n",
    "plt.grid(True)\n"
   ]
  }
 ],
 "metadata": {
  "kernelspec": {
   "display_name": "Python 3",
   "language": "python",
   "name": "python3"
  },
  "language_info": {
   "codemirror_mode": {
    "name": "ipython",
    "version": 3
   },
   "file_extension": ".py",
   "mimetype": "text/x-python",
   "name": "python",
   "nbconvert_exporter": "python",
   "pygments_lexer": "ipython3",
   "version": "3.10.11"
  },
  "orig_nbformat": 4
 },
 "nbformat": 4,
 "nbformat_minor": 2
}
